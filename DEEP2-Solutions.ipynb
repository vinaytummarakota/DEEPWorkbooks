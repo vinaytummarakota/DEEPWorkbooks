{
 "cells": [
  {
   "cell_type": "markdown",
   "metadata": {
    "id": "KGcoaaF8NrC_"
   },
   "source": [
    "# Gathering and Cleaning Data \n",
    "\n",
    "## DEEP Workshop #2\n",
    "The goal of this notebook is to give you the knowledge of how to access and begin to understand a new data set.\n",
    "\n",
    "### Table of contents: \n",
    "1. Review: Pandas Data Structures\n",
    "2. Reading in Data\n",
    "3. Getting an Initial Sense for the Data\n",
    "4. Selecting Data Subsets\n",
    "5. Computations and New Columns\n",
    "6. Grouping and Aggregating the Data\n",
    "7. Eliminating Rows from Dataset\n",
    "8. Imputing Rows into Dataset\n",
    "9. One-Hot Encoding\n",
    "\n",
    "### Data Overview \n",
    "We are using a dataset on different cereals. Most of the columns are self explanatory but there are two columns that are coded: \n",
    "- mfr: Manufacturer of cereal\n",
    "    - A = American Home Food Products;\n",
    "    - G = General Mills\n",
    "    - K = Kelloggs\n",
    "    - N = Nabisco\n",
    "    - P = Post\n",
    "    - Q = Quaker Oats\n",
    "    - R = Ralston Purina\n",
    "- type:\n",
    "    - cold\n",
    "    - hot\n",
    "   \n",
    "You can find more about the dataset here: https://www.kaggle.com/crawford/80-cereals"
   ]
  },
  {
   "cell_type": "markdown",
   "metadata": {
    "id": "Nlg40OxBNrDA"
   },
   "source": [
    "# Review: Pandas Data Structures \n",
    "\n",
    "In pandas, there are two key data structures - a series and a dataframe.\n",
    "A series a one-dimensional labeled array (or list) capable of holding any data type.\n",
    "A dataframe represents tabular data and is composed of columns, where each column is a series.\n",
    "\n",
    "You can read more about the basic data structures in Panda's documentation: https://pandas.pydata.org/docs/user_guide/dsintro.html"
   ]
  },
  {
   "cell_type": "markdown",
   "metadata": {
    "id": "5Ws9TiZnNrDB"
   },
   "source": [
    "# Reading in Data\n",
    "\n",
    "Before we can learn about pandas we need to read in the library. \\\n",
    "In python libraries are read in like this:\n",
    "```\n",
    "import library_name as some_abbreviation\n",
    "```\n",
    "\n",
    "First we want to access the data we will be using pandas.\n",
    "\n",
    "To read-in and create a new data frame from a csv in pandas we use:\n",
    "\n",
    "```\n",
    "df = pd.read_csv('path or url to csv')\n",
    "```"
   ]
  },
  {
   "cell_type": "code",
   "execution_count": 1,
   "metadata": {
    "executionInfo": {
     "elapsed": 99,
     "status": "ok",
     "timestamp": 1631541482532,
     "user": {
      "displayName": "Vinay Tummarakota",
      "photoUrl": "https://lh3.googleusercontent.com/a-/AOh14Ghr9RRDGNwGA3qxU89qMYCU61iCuFy2G2u21I4CqA=s64",
      "userId": "11798032969015149050"
     },
     "user_tz": 300
    },
    "id": "7iRYqUO3NrDC"
   },
   "outputs": [],
   "source": [
    "# import libraries \n",
    "import pandas as pd "
   ]
  },
  {
   "cell_type": "code",
   "execution_count": 2,
   "metadata": {
    "id": "WEhETVwBNrDI"
   },
   "outputs": [],
   "source": [
    "# import your data \n",
    "path = \"./cereal.csv\"\n",
    "cereal_df = pd.read_csv(path)"
   ]
  },
  {
   "cell_type": "markdown",
   "metadata": {
    "id": "b_fWi2zFNrDX"
   },
   "source": [
    "# Getting an Initial Sense for the Data  \n",
    "The pandas DataFrame object that we just created has a lot of useful methods and attributes or getting a sense of what is included in our data.\n",
    "\n",
    "A usefull attribute for determining the number of rows and columns of your data is:\n",
    "```\n",
    "df.shape #shape is an attribute not a method so we don't use parenthesis\n",
    "```\n",
    "To get a quick look at the first couple rows of your data use:\n",
    "```\n",
    "df.head() \n",
    "```\n",
    "To get number of unique values in the dataframe \n",
    "```\n",
    "df.nunique()\n",
    "```"
   ]
  },
  {
   "cell_type": "markdown",
   "metadata": {
    "id": "zanTqUEJNrDX"
   },
   "source": [
    "### Q: What are the dimensions/shape of the cereal dataset?"
   ]
  },
  {
   "cell_type": "code",
   "execution_count": 3,
   "metadata": {
    "id": "QoBkH0gmNrDY",
    "outputId": "781b961f-02af-4aeb-d3d7-8893c1598ffa"
   },
   "outputs": [
    {
     "name": "stdout",
     "output_type": "stream",
     "text": [
      "(77, 16)\n"
     ]
    }
   ],
   "source": [
    "print(cereal_df.shape)"
   ]
  },
  {
   "cell_type": "markdown",
   "metadata": {
    "id": "wnVF-mIdNrDj"
   },
   "source": [
    "### Q: Look at the head of the dataset. What does each row represent?"
   ]
  },
  {
   "cell_type": "code",
   "execution_count": 4,
   "metadata": {
    "id": "W38BiWpMNrDk",
    "outputId": "36d88b98-2595-40de-a4d2-cf1622ab74ae"
   },
   "outputs": [
    {
     "data": {
      "text/html": [
       "<div>\n",
       "<style scoped>\n",
       "    .dataframe tbody tr th:only-of-type {\n",
       "        vertical-align: middle;\n",
       "    }\n",
       "\n",
       "    .dataframe tbody tr th {\n",
       "        vertical-align: top;\n",
       "    }\n",
       "\n",
       "    .dataframe thead th {\n",
       "        text-align: right;\n",
       "    }\n",
       "</style>\n",
       "<table border=\"1\" class=\"dataframe\">\n",
       "  <thead>\n",
       "    <tr style=\"text-align: right;\">\n",
       "      <th></th>\n",
       "      <th>name</th>\n",
       "      <th>mfr</th>\n",
       "      <th>type</th>\n",
       "      <th>calories</th>\n",
       "      <th>protein</th>\n",
       "      <th>fat</th>\n",
       "      <th>sodium</th>\n",
       "      <th>fiber</th>\n",
       "      <th>carbo</th>\n",
       "      <th>sugars</th>\n",
       "      <th>potass</th>\n",
       "      <th>vitamins</th>\n",
       "      <th>shelf</th>\n",
       "      <th>weight</th>\n",
       "      <th>cups</th>\n",
       "      <th>rating</th>\n",
       "    </tr>\n",
       "  </thead>\n",
       "  <tbody>\n",
       "    <tr>\n",
       "      <th>0</th>\n",
       "      <td>100% Bran</td>\n",
       "      <td>N</td>\n",
       "      <td>C</td>\n",
       "      <td>70</td>\n",
       "      <td>4</td>\n",
       "      <td>1</td>\n",
       "      <td>130</td>\n",
       "      <td>10.0</td>\n",
       "      <td>5.0</td>\n",
       "      <td>6</td>\n",
       "      <td>280</td>\n",
       "      <td>25</td>\n",
       "      <td>3</td>\n",
       "      <td>1.0</td>\n",
       "      <td>0.33</td>\n",
       "      <td>68.402973</td>\n",
       "    </tr>\n",
       "    <tr>\n",
       "      <th>1</th>\n",
       "      <td>100% Natural Bran</td>\n",
       "      <td>Q</td>\n",
       "      <td>C</td>\n",
       "      <td>120</td>\n",
       "      <td>3</td>\n",
       "      <td>5</td>\n",
       "      <td>15</td>\n",
       "      <td>2.0</td>\n",
       "      <td>8.0</td>\n",
       "      <td>8</td>\n",
       "      <td>135</td>\n",
       "      <td>0</td>\n",
       "      <td>3</td>\n",
       "      <td>1.0</td>\n",
       "      <td>1.00</td>\n",
       "      <td>33.983679</td>\n",
       "    </tr>\n",
       "    <tr>\n",
       "      <th>2</th>\n",
       "      <td>All-Bran</td>\n",
       "      <td>K</td>\n",
       "      <td>C</td>\n",
       "      <td>70</td>\n",
       "      <td>4</td>\n",
       "      <td>1</td>\n",
       "      <td>260</td>\n",
       "      <td>9.0</td>\n",
       "      <td>7.0</td>\n",
       "      <td>5</td>\n",
       "      <td>320</td>\n",
       "      <td>25</td>\n",
       "      <td>3</td>\n",
       "      <td>1.0</td>\n",
       "      <td>0.33</td>\n",
       "      <td>59.425505</td>\n",
       "    </tr>\n",
       "    <tr>\n",
       "      <th>3</th>\n",
       "      <td>All-Bran with Extra Fiber</td>\n",
       "      <td>K</td>\n",
       "      <td>C</td>\n",
       "      <td>50</td>\n",
       "      <td>4</td>\n",
       "      <td>0</td>\n",
       "      <td>140</td>\n",
       "      <td>14.0</td>\n",
       "      <td>8.0</td>\n",
       "      <td>0</td>\n",
       "      <td>330</td>\n",
       "      <td>25</td>\n",
       "      <td>3</td>\n",
       "      <td>1.0</td>\n",
       "      <td>0.50</td>\n",
       "      <td>93.704912</td>\n",
       "    </tr>\n",
       "    <tr>\n",
       "      <th>4</th>\n",
       "      <td>Almond Delight</td>\n",
       "      <td>R</td>\n",
       "      <td>C</td>\n",
       "      <td>110</td>\n",
       "      <td>2</td>\n",
       "      <td>2</td>\n",
       "      <td>200</td>\n",
       "      <td>1.0</td>\n",
       "      <td>14.0</td>\n",
       "      <td>8</td>\n",
       "      <td>-1</td>\n",
       "      <td>25</td>\n",
       "      <td>3</td>\n",
       "      <td>1.0</td>\n",
       "      <td>0.75</td>\n",
       "      <td>34.384843</td>\n",
       "    </tr>\n",
       "  </tbody>\n",
       "</table>\n",
       "</div>"
      ],
      "text/plain": [
       "                        name mfr type  calories  protein  fat  sodium  fiber  \\\n",
       "0                  100% Bran   N    C        70        4    1     130   10.0   \n",
       "1          100% Natural Bran   Q    C       120        3    5      15    2.0   \n",
       "2                   All-Bran   K    C        70        4    1     260    9.0   \n",
       "3  All-Bran with Extra Fiber   K    C        50        4    0     140   14.0   \n",
       "4             Almond Delight   R    C       110        2    2     200    1.0   \n",
       "\n",
       "   carbo  sugars  potass  vitamins  shelf  weight  cups     rating  \n",
       "0    5.0       6     280        25      3     1.0  0.33  68.402973  \n",
       "1    8.0       8     135         0      3     1.0  1.00  33.983679  \n",
       "2    7.0       5     320        25      3     1.0  0.33  59.425505  \n",
       "3    8.0       0     330        25      3     1.0  0.50  93.704912  \n",
       "4   14.0       8      -1        25      3     1.0  0.75  34.384843  "
      ]
     },
     "execution_count": 4,
     "metadata": {},
     "output_type": "execute_result"
    }
   ],
   "source": [
    "cereal_df.head()"
   ]
  },
  {
   "cell_type": "markdown",
   "metadata": {
    "id": "P0_YBfxkNrD_"
   },
   "source": [
    "### Q: What are the columns in the dataset? What datatype is each column?"
   ]
  },
  {
   "cell_type": "code",
   "execution_count": 5,
   "metadata": {
    "id": "VZUkcirpNrEE",
    "outputId": "4eef958d-94ba-49f8-e294-85e68b04dc65"
   },
   "outputs": [
    {
     "name": "stdout",
     "output_type": "stream",
     "text": [
      "name         object\n",
      "mfr          object\n",
      "type         object\n",
      "calories      int64\n",
      "protein       int64\n",
      "fat           int64\n",
      "sodium        int64\n",
      "fiber       float64\n",
      "carbo       float64\n",
      "sugars        int64\n",
      "potass        int64\n",
      "vitamins      int64\n",
      "shelf         int64\n",
      "weight      float64\n",
      "cups        float64\n",
      "rating      float64\n",
      "dtype: object\n"
     ]
    }
   ],
   "source": [
    "print(cereal_df.dtypes)"
   ]
  },
  {
   "cell_type": "markdown",
   "metadata": {
    "id": "t5kF_3L8NrEO"
   },
   "source": [
    "### Q: How many unique ratings are there?"
   ]
  },
  {
   "cell_type": "code",
   "execution_count": 6,
   "metadata": {
    "id": "NUX7vSyINrEU",
    "outputId": "d1ac99d0-7dec-41e2-da1d-c7620f0cdd7e"
   },
   "outputs": [
    {
     "data": {
      "text/plain": [
       "name        77\n",
       "mfr          7\n",
       "type         2\n",
       "calories    11\n",
       "protein      6\n",
       "fat          5\n",
       "sodium      27\n",
       "fiber       13\n",
       "carbo       22\n",
       "sugars      17\n",
       "potass      36\n",
       "vitamins     3\n",
       "shelf        3\n",
       "weight       7\n",
       "cups        12\n",
       "rating      77\n",
       "dtype: int64"
      ]
     },
     "execution_count": 6,
     "metadata": {},
     "output_type": "execute_result"
    }
   ],
   "source": [
    "cereal_df.nunique()"
   ]
  },
  {
   "cell_type": "markdown",
   "metadata": {
    "id": "fzOlGqhqNrEi"
   },
   "source": [
    "# Selecting Subsets \n",
    "A useful methods for selecting rows and columns:\\\n",
    "`subset_df = df.loc[desired rows, desired columns]`\n",
    "\n",
    "For example if we wanted all rows but only the name and rating columns we would use:\\\n",
    "`cerealName_rating_df = cereal_df.loc[:, ['name', 'rating']]`\n",
    "\n",
    "Or if we wanted only the first 50 rows but all columnns we would use:\\\n",
    "`first_50_df = cereal_df.loc[range(50), : ]`\n",
    "\n",
    "We can also use boolean logic to select specific rows:\\\n",
    "`kellogs_df = cereal_df.loc[cereal_df.mfr == \"K\", :]`"
   ]
  },
  {
   "cell_type": "markdown",
   "metadata": {
    "id": "q5tvbtbXNrEj"
   },
   "source": [
    "### Q: What are the names of all the cereals made by General Mills? How many cereals are made by General Mills?\n",
    "\n",
    "Hint: the code for General Mills is G"
   ]
  },
  {
   "cell_type": "code",
   "execution_count": 7,
   "metadata": {
    "id": "dzfTVsy2NrEj",
    "outputId": "4421ee77-563a-4a03-ffec-9615ecb77d63"
   },
   "outputs": [
    {
     "name": "stdout",
     "output_type": "stream",
     "text": [
      "['Apple Cinnamon Cheerios' 'Basic 4' 'Cheerios' 'Cinnamon Toast Crunch'\n",
      " 'Clusters' 'Cocoa Puffs' 'Count Chocula' 'Crispy Wheat & Raisins'\n",
      " 'Golden Grahams' 'Honey Nut Cheerios' 'Kix' 'Lucky Charms'\n",
      " 'Multi-Grain Cheerios' 'Oatmeal Raisin Crisp' 'Raisin Nut Bran'\n",
      " 'Total Corn Flakes' 'Total Raisin Bran' 'Total Whole Grain' 'Triples'\n",
      " 'Trix' 'Wheaties' 'Wheaties Honey Gold']\n",
      "22\n"
     ]
    }
   ],
   "source": [
    "gm_df = cereal_df.loc[cereal_df.mfr == \"G\"]\n",
    "gm_cereals = gm_df.name.unique()\n",
    "print(gm_cereals)\n",
    "print(len(gm_cereals))"
   ]
  },
  {
   "cell_type": "markdown",
   "metadata": {
    "id": "6-8GLRy9NrEm"
   },
   "source": [
    "### Q: What is the highest rating value in the dataset? What is the lowest rating value in the dataset?\n"
   ]
  },
  {
   "cell_type": "code",
   "execution_count": 8,
   "metadata": {
    "id": "w8W7bwqPNrEn",
    "outputId": "90157074-81f7-4431-c5d0-034205680714"
   },
   "outputs": [
    {
     "name": "stdout",
     "output_type": "stream",
     "text": [
      "Highest: 93.704912\n",
      "Lowest: 18.042851\n"
     ]
    }
   ],
   "source": [
    "print(\"Highest:\", cereal_df.loc[:, \"rating\"].max())\n",
    "print(\"Lowest:\", cereal_df.loc[:, \"rating\"].min())"
   ]
  },
  {
   "cell_type": "markdown",
   "metadata": {
    "id": "Luv1crSPNrEu"
   },
   "source": [
    "### Q: How many cereals have sugar content over 5?"
   ]
  },
  {
   "cell_type": "code",
   "execution_count": 9,
   "metadata": {
    "id": "-__5c-YiNrEv",
    "outputId": "d8e2596a-4021-4e57-dbc9-b0b3c2866f3d"
   },
   "outputs": [
    {
     "data": {
      "text/plain": [
       "46"
      ]
     },
     "execution_count": 9,
     "metadata": {},
     "output_type": "execute_result"
    }
   ],
   "source": [
    "high_sugar_df = cereal_df.loc[cereal_df.sugars > 5]\n",
    "high_sugar_df.shape[0]"
   ]
  },
  {
   "cell_type": "markdown",
   "metadata": {
    "id": "aQfq7N2tNrE4"
   },
   "source": [
    "# Computations and New Columns\n",
    "\n",
    "We can also use typical mathematical operators on columns or data frame.\n",
    "\n",
    "For example, to convert milligrams of sodium to grams, we would multiply the sodium column by 1000. **(NOTE: this will not actually change the value of the column. Instead a new series is returned)**\n",
    "```\n",
    "cereal_df.loc[:, \"sodium\"] * 1000 # note this will not actually change the value of the column\n",
    "```\n",
    "\n",
    "To create new or overiding existing columns from computations: \n",
    "```\n",
    "df.loc[:, \"column_name\"] = a single value or an array type (ie. list, series, ect.)\n",
    "```\n",
    "\n",
    "So if we wanted to make a column of sodium in grams, we would do: \n",
    "```\n",
    "cereal_df.loc[:, \"grams_sodium\"] = cereal_df.loc[:, \"sodium\"] * 1000\n",
    "```\n",
    "\n",
    "--- \n",
    "We can also use multiple columns in computations. For example, to compute the ratio of sugars to calories: \n",
    "```\n",
    "cereal_df.loc[:, \"sugars\"] / (cereal_df.loc[:, \"calories\"])\n",
    "```\n",
    "\n",
    "\n",
    "Sometimes we want to make computations on single or multiple columns of our data. To do this we can use common mathematical opperations such as `.sum()`, `.mean()`, `.std()`, `median()`.\n",
    "\n",
    "For example to compute the mean (or average) cumulative number of sugars:\n",
    "```\n",
    "cereal_df.loc[:,\"sugars\"].mean()\n",
    "```"
   ]
  },
  {
   "cell_type": "markdown",
   "metadata": {
    "id": "U80vYhAQNrE7"
   },
   "source": [
    "### Q: Create a column for grams of potassium. (Note: potassium is currently measured in milligrams.)"
   ]
  },
  {
   "cell_type": "code",
   "execution_count": 10,
   "metadata": {
    "id": "qZK3rvlhNrE7",
    "outputId": "121fd7d5-c5b0-4b4f-b776-552c4bbde0da"
   },
   "outputs": [
    {
     "data": {
      "text/html": [
       "<div>\n",
       "<style scoped>\n",
       "    .dataframe tbody tr th:only-of-type {\n",
       "        vertical-align: middle;\n",
       "    }\n",
       "\n",
       "    .dataframe tbody tr th {\n",
       "        vertical-align: top;\n",
       "    }\n",
       "\n",
       "    .dataframe thead th {\n",
       "        text-align: right;\n",
       "    }\n",
       "</style>\n",
       "<table border=\"1\" class=\"dataframe\">\n",
       "  <thead>\n",
       "    <tr style=\"text-align: right;\">\n",
       "      <th></th>\n",
       "      <th>name</th>\n",
       "      <th>mfr</th>\n",
       "      <th>type</th>\n",
       "      <th>calories</th>\n",
       "      <th>protein</th>\n",
       "      <th>fat</th>\n",
       "      <th>sodium</th>\n",
       "      <th>fiber</th>\n",
       "      <th>carbo</th>\n",
       "      <th>sugars</th>\n",
       "      <th>potass</th>\n",
       "      <th>vitamins</th>\n",
       "      <th>shelf</th>\n",
       "      <th>weight</th>\n",
       "      <th>cups</th>\n",
       "      <th>rating</th>\n",
       "      <th>grams_potassium</th>\n",
       "    </tr>\n",
       "  </thead>\n",
       "  <tbody>\n",
       "    <tr>\n",
       "      <th>0</th>\n",
       "      <td>100% Bran</td>\n",
       "      <td>N</td>\n",
       "      <td>C</td>\n",
       "      <td>70</td>\n",
       "      <td>4</td>\n",
       "      <td>1</td>\n",
       "      <td>130</td>\n",
       "      <td>10.0</td>\n",
       "      <td>5.0</td>\n",
       "      <td>6</td>\n",
       "      <td>280</td>\n",
       "      <td>25</td>\n",
       "      <td>3</td>\n",
       "      <td>1.0</td>\n",
       "      <td>0.33</td>\n",
       "      <td>68.402973</td>\n",
       "      <td>0.280</td>\n",
       "    </tr>\n",
       "    <tr>\n",
       "      <th>1</th>\n",
       "      <td>100% Natural Bran</td>\n",
       "      <td>Q</td>\n",
       "      <td>C</td>\n",
       "      <td>120</td>\n",
       "      <td>3</td>\n",
       "      <td>5</td>\n",
       "      <td>15</td>\n",
       "      <td>2.0</td>\n",
       "      <td>8.0</td>\n",
       "      <td>8</td>\n",
       "      <td>135</td>\n",
       "      <td>0</td>\n",
       "      <td>3</td>\n",
       "      <td>1.0</td>\n",
       "      <td>1.00</td>\n",
       "      <td>33.983679</td>\n",
       "      <td>0.135</td>\n",
       "    </tr>\n",
       "    <tr>\n",
       "      <th>2</th>\n",
       "      <td>All-Bran</td>\n",
       "      <td>K</td>\n",
       "      <td>C</td>\n",
       "      <td>70</td>\n",
       "      <td>4</td>\n",
       "      <td>1</td>\n",
       "      <td>260</td>\n",
       "      <td>9.0</td>\n",
       "      <td>7.0</td>\n",
       "      <td>5</td>\n",
       "      <td>320</td>\n",
       "      <td>25</td>\n",
       "      <td>3</td>\n",
       "      <td>1.0</td>\n",
       "      <td>0.33</td>\n",
       "      <td>59.425505</td>\n",
       "      <td>0.320</td>\n",
       "    </tr>\n",
       "  </tbody>\n",
       "</table>\n",
       "</div>"
      ],
      "text/plain": [
       "                name mfr type  calories  protein  fat  sodium  fiber  carbo  \\\n",
       "0          100% Bran   N    C        70        4    1     130   10.0    5.0   \n",
       "1  100% Natural Bran   Q    C       120        3    5      15    2.0    8.0   \n",
       "2           All-Bran   K    C        70        4    1     260    9.0    7.0   \n",
       "\n",
       "   sugars  potass  vitamins  shelf  weight  cups     rating  grams_potassium  \n",
       "0       6     280        25      3     1.0  0.33  68.402973            0.280  \n",
       "1       8     135         0      3     1.0  1.00  33.983679            0.135  \n",
       "2       5     320        25      3     1.0  0.33  59.425505            0.320  "
      ]
     },
     "execution_count": 10,
     "metadata": {},
     "output_type": "execute_result"
    }
   ],
   "source": [
    "cereal_df.loc[:, \"grams_potassium\"] = cereal_df.loc[:, \"potass\"] / 1000\n",
    "cereal_df.head(3)"
   ]
  },
  {
   "cell_type": "markdown",
   "metadata": {
    "id": "FNjTILBbNrFA"
   },
   "source": [
    "### Q: Can you create a column of sugar/weight?"
   ]
  },
  {
   "cell_type": "code",
   "execution_count": 11,
   "metadata": {
    "id": "ALhOybvSNrFA",
    "outputId": "b7e3420b-af34-44a3-adcd-b5ec749941b3"
   },
   "outputs": [
    {
     "data": {
      "text/html": [
       "<div>\n",
       "<style scoped>\n",
       "    .dataframe tbody tr th:only-of-type {\n",
       "        vertical-align: middle;\n",
       "    }\n",
       "\n",
       "    .dataframe tbody tr th {\n",
       "        vertical-align: top;\n",
       "    }\n",
       "\n",
       "    .dataframe thead th {\n",
       "        text-align: right;\n",
       "    }\n",
       "</style>\n",
       "<table border=\"1\" class=\"dataframe\">\n",
       "  <thead>\n",
       "    <tr style=\"text-align: right;\">\n",
       "      <th></th>\n",
       "      <th>name</th>\n",
       "      <th>mfr</th>\n",
       "      <th>type</th>\n",
       "      <th>calories</th>\n",
       "      <th>protein</th>\n",
       "      <th>fat</th>\n",
       "      <th>sodium</th>\n",
       "      <th>fiber</th>\n",
       "      <th>carbo</th>\n",
       "      <th>sugars</th>\n",
       "      <th>potass</th>\n",
       "      <th>vitamins</th>\n",
       "      <th>shelf</th>\n",
       "      <th>weight</th>\n",
       "      <th>cups</th>\n",
       "      <th>rating</th>\n",
       "      <th>grams_potassium</th>\n",
       "      <th>sugar_weight</th>\n",
       "    </tr>\n",
       "  </thead>\n",
       "  <tbody>\n",
       "    <tr>\n",
       "      <th>0</th>\n",
       "      <td>100% Bran</td>\n",
       "      <td>N</td>\n",
       "      <td>C</td>\n",
       "      <td>70</td>\n",
       "      <td>4</td>\n",
       "      <td>1</td>\n",
       "      <td>130</td>\n",
       "      <td>10.0</td>\n",
       "      <td>5.0</td>\n",
       "      <td>6</td>\n",
       "      <td>280</td>\n",
       "      <td>25</td>\n",
       "      <td>3</td>\n",
       "      <td>1.0</td>\n",
       "      <td>0.33</td>\n",
       "      <td>68.402973</td>\n",
       "      <td>0.280</td>\n",
       "      <td>6.0</td>\n",
       "    </tr>\n",
       "    <tr>\n",
       "      <th>1</th>\n",
       "      <td>100% Natural Bran</td>\n",
       "      <td>Q</td>\n",
       "      <td>C</td>\n",
       "      <td>120</td>\n",
       "      <td>3</td>\n",
       "      <td>5</td>\n",
       "      <td>15</td>\n",
       "      <td>2.0</td>\n",
       "      <td>8.0</td>\n",
       "      <td>8</td>\n",
       "      <td>135</td>\n",
       "      <td>0</td>\n",
       "      <td>3</td>\n",
       "      <td>1.0</td>\n",
       "      <td>1.00</td>\n",
       "      <td>33.983679</td>\n",
       "      <td>0.135</td>\n",
       "      <td>8.0</td>\n",
       "    </tr>\n",
       "    <tr>\n",
       "      <th>2</th>\n",
       "      <td>All-Bran</td>\n",
       "      <td>K</td>\n",
       "      <td>C</td>\n",
       "      <td>70</td>\n",
       "      <td>4</td>\n",
       "      <td>1</td>\n",
       "      <td>260</td>\n",
       "      <td>9.0</td>\n",
       "      <td>7.0</td>\n",
       "      <td>5</td>\n",
       "      <td>320</td>\n",
       "      <td>25</td>\n",
       "      <td>3</td>\n",
       "      <td>1.0</td>\n",
       "      <td>0.33</td>\n",
       "      <td>59.425505</td>\n",
       "      <td>0.320</td>\n",
       "      <td>5.0</td>\n",
       "    </tr>\n",
       "  </tbody>\n",
       "</table>\n",
       "</div>"
      ],
      "text/plain": [
       "                name mfr type  calories  protein  fat  sodium  fiber  carbo  \\\n",
       "0          100% Bran   N    C        70        4    1     130   10.0    5.0   \n",
       "1  100% Natural Bran   Q    C       120        3    5      15    2.0    8.0   \n",
       "2           All-Bran   K    C        70        4    1     260    9.0    7.0   \n",
       "\n",
       "   sugars  potass  vitamins  shelf  weight  cups     rating  grams_potassium  \\\n",
       "0       6     280        25      3     1.0  0.33  68.402973            0.280   \n",
       "1       8     135         0      3     1.0  1.00  33.983679            0.135   \n",
       "2       5     320        25      3     1.0  0.33  59.425505            0.320   \n",
       "\n",
       "   sugar_weight  \n",
       "0           6.0  \n",
       "1           8.0  \n",
       "2           5.0  "
      ]
     },
     "execution_count": 11,
     "metadata": {},
     "output_type": "execute_result"
    }
   ],
   "source": [
    "cereal_df.loc[:, \"sugar_weight\"] = cereal_df.loc[:, \"sugars\"] / cereal_df.loc[:, \"weight\"]\n",
    "cereal_df.head(3)"
   ]
  },
  {
   "cell_type": "markdown",
   "metadata": {
    "id": "VSHAK8Q1NrFL"
   },
   "source": [
    "### Q: What is the mean and median for sugar amount? Are they the same or different?"
   ]
  },
  {
   "cell_type": "code",
   "execution_count": 12,
   "metadata": {
    "id": "mBcQ6dznNrFP",
    "outputId": "2d97a81c-0a2b-4995-e8b8-9d8b6bd029e8"
   },
   "outputs": [
    {
     "name": "stdout",
     "output_type": "stream",
     "text": [
      "6.922077922077922\n",
      "7.0\n"
     ]
    }
   ],
   "source": [
    "print(cereal_df.loc[:, \"sugars\"].mean())\n",
    "print(cereal_df.loc[:, \"sugars\"].median())"
   ]
  },
  {
   "cell_type": "markdown",
   "metadata": {
    "id": "8ALwXZ3iNrFa"
   },
   "source": [
    "### Q: What is the mean and median for fiber? Are they the same or different?"
   ]
  },
  {
   "cell_type": "code",
   "execution_count": 13,
   "metadata": {
    "id": "Hj9sIrMfNrFb",
    "outputId": "4865f63e-064c-4819-9b63-12640878dba1"
   },
   "outputs": [
    {
     "name": "stdout",
     "output_type": "stream",
     "text": [
      "2.1519480519480516\n",
      "2.0\n"
     ]
    }
   ],
   "source": [
    "print(cereal_df.loc[:, \"fiber\"].mean())\n",
    "print(cereal_df.loc[:, \"fiber\"].median())"
   ]
  },
  {
   "cell_type": "markdown",
   "metadata": {
    "id": "0EWH1wvjNrFf"
   },
   "source": [
    "# Sorting\n",
    "\n",
    "Dataframes make it easy to sort values in a specific column. For example, if we wanted to sort the dataframe by sugar levels, we would do: \n",
    "```\n",
    "cereal_df.sort_values(by=['sugars])\n",
    "```\n",
    "\n",
    "By default, the sort is in ascending order (lowest to high). To sort in descending order, do: \n",
    "```\n",
    "cereal_df.sort_values(by=['sugars], ascending=False)\n",
    "```"
   ]
  },
  {
   "cell_type": "markdown",
   "metadata": {
    "id": "vzzrLkHcNrFg"
   },
   "source": [
    "### Q: What cereals have the most number of calories?"
   ]
  },
  {
   "cell_type": "code",
   "execution_count": 14,
   "metadata": {
    "id": "k7MMOCyMNrFg",
    "outputId": "152400c6-d211-4d7d-dc4e-429f6c47273b"
   },
   "outputs": [
    {
     "data": {
      "text/html": [
       "<div>\n",
       "<style scoped>\n",
       "    .dataframe tbody tr th:only-of-type {\n",
       "        vertical-align: middle;\n",
       "    }\n",
       "\n",
       "    .dataframe tbody tr th {\n",
       "        vertical-align: top;\n",
       "    }\n",
       "\n",
       "    .dataframe thead th {\n",
       "        text-align: right;\n",
       "    }\n",
       "</style>\n",
       "<table border=\"1\" class=\"dataframe\">\n",
       "  <thead>\n",
       "    <tr style=\"text-align: right;\">\n",
       "      <th></th>\n",
       "      <th>name</th>\n",
       "      <th>mfr</th>\n",
       "      <th>type</th>\n",
       "      <th>calories</th>\n",
       "      <th>protein</th>\n",
       "      <th>fat</th>\n",
       "      <th>sodium</th>\n",
       "      <th>fiber</th>\n",
       "      <th>carbo</th>\n",
       "      <th>sugars</th>\n",
       "      <th>potass</th>\n",
       "      <th>vitamins</th>\n",
       "      <th>shelf</th>\n",
       "      <th>weight</th>\n",
       "      <th>cups</th>\n",
       "      <th>rating</th>\n",
       "      <th>grams_potassium</th>\n",
       "      <th>sugar_weight</th>\n",
       "    </tr>\n",
       "  </thead>\n",
       "  <tbody>\n",
       "    <tr>\n",
       "      <th>3</th>\n",
       "      <td>All-Bran with Extra Fiber</td>\n",
       "      <td>K</td>\n",
       "      <td>C</td>\n",
       "      <td>50</td>\n",
       "      <td>4</td>\n",
       "      <td>0</td>\n",
       "      <td>140</td>\n",
       "      <td>14.0</td>\n",
       "      <td>8.0</td>\n",
       "      <td>0</td>\n",
       "      <td>330</td>\n",
       "      <td>25</td>\n",
       "      <td>3</td>\n",
       "      <td>1.0</td>\n",
       "      <td>0.5</td>\n",
       "      <td>93.704912</td>\n",
       "      <td>0.330</td>\n",
       "      <td>0.0</td>\n",
       "    </tr>\n",
       "    <tr>\n",
       "      <th>54</th>\n",
       "      <td>Puffed Rice</td>\n",
       "      <td>Q</td>\n",
       "      <td>C</td>\n",
       "      <td>50</td>\n",
       "      <td>1</td>\n",
       "      <td>0</td>\n",
       "      <td>0</td>\n",
       "      <td>0.0</td>\n",
       "      <td>13.0</td>\n",
       "      <td>0</td>\n",
       "      <td>15</td>\n",
       "      <td>0</td>\n",
       "      <td>3</td>\n",
       "      <td>0.5</td>\n",
       "      <td>1.0</td>\n",
       "      <td>60.756112</td>\n",
       "      <td>0.015</td>\n",
       "      <td>0.0</td>\n",
       "    </tr>\n",
       "    <tr>\n",
       "      <th>55</th>\n",
       "      <td>Puffed Wheat</td>\n",
       "      <td>Q</td>\n",
       "      <td>C</td>\n",
       "      <td>50</td>\n",
       "      <td>2</td>\n",
       "      <td>0</td>\n",
       "      <td>0</td>\n",
       "      <td>1.0</td>\n",
       "      <td>10.0</td>\n",
       "      <td>0</td>\n",
       "      <td>50</td>\n",
       "      <td>0</td>\n",
       "      <td>3</td>\n",
       "      <td>0.5</td>\n",
       "      <td>1.0</td>\n",
       "      <td>63.005645</td>\n",
       "      <td>0.050</td>\n",
       "      <td>0.0</td>\n",
       "    </tr>\n",
       "  </tbody>\n",
       "</table>\n",
       "</div>"
      ],
      "text/plain": [
       "                         name mfr type  calories  protein  fat  sodium  fiber  \\\n",
       "3   All-Bran with Extra Fiber   K    C        50        4    0     140   14.0   \n",
       "54                Puffed Rice   Q    C        50        1    0       0    0.0   \n",
       "55               Puffed Wheat   Q    C        50        2    0       0    1.0   \n",
       "\n",
       "    carbo  sugars  potass  vitamins  shelf  weight  cups     rating  \\\n",
       "3     8.0       0     330        25      3     1.0   0.5  93.704912   \n",
       "54   13.0       0      15         0      3     0.5   1.0  60.756112   \n",
       "55   10.0       0      50         0      3     0.5   1.0  63.005645   \n",
       "\n",
       "    grams_potassium  sugar_weight  \n",
       "3             0.330           0.0  \n",
       "54            0.015           0.0  \n",
       "55            0.050           0.0  "
      ]
     },
     "execution_count": 14,
     "metadata": {},
     "output_type": "execute_result"
    }
   ],
   "source": [
    "cereal_df.sort_values(by=['calories'])[:3]"
   ]
  },
  {
   "cell_type": "markdown",
   "metadata": {
    "id": "YuQq-lddNrFm"
   },
   "source": [
    "### Q: What cereals have the least number of calories?"
   ]
  },
  {
   "cell_type": "code",
   "execution_count": 15,
   "metadata": {
    "id": "HpWe2q0-NrFn",
    "outputId": "d9c50829-dd0a-4d1a-bac1-7df49facfaaf"
   },
   "outputs": [
    {
     "data": {
      "text/html": [
       "<div>\n",
       "<style scoped>\n",
       "    .dataframe tbody tr th:only-of-type {\n",
       "        vertical-align: middle;\n",
       "    }\n",
       "\n",
       "    .dataframe tbody tr th {\n",
       "        vertical-align: top;\n",
       "    }\n",
       "\n",
       "    .dataframe thead th {\n",
       "        text-align: right;\n",
       "    }\n",
       "</style>\n",
       "<table border=\"1\" class=\"dataframe\">\n",
       "  <thead>\n",
       "    <tr style=\"text-align: right;\">\n",
       "      <th></th>\n",
       "      <th>name</th>\n",
       "      <th>mfr</th>\n",
       "      <th>type</th>\n",
       "      <th>calories</th>\n",
       "      <th>protein</th>\n",
       "      <th>fat</th>\n",
       "      <th>sodium</th>\n",
       "      <th>fiber</th>\n",
       "      <th>carbo</th>\n",
       "      <th>sugars</th>\n",
       "      <th>potass</th>\n",
       "      <th>vitamins</th>\n",
       "      <th>shelf</th>\n",
       "      <th>weight</th>\n",
       "      <th>cups</th>\n",
       "      <th>rating</th>\n",
       "      <th>grams_potassium</th>\n",
       "      <th>sugar_weight</th>\n",
       "    </tr>\n",
       "  </thead>\n",
       "  <tbody>\n",
       "    <tr>\n",
       "      <th>46</th>\n",
       "      <td>Mueslix Crispy Blend</td>\n",
       "      <td>K</td>\n",
       "      <td>C</td>\n",
       "      <td>160</td>\n",
       "      <td>3</td>\n",
       "      <td>2</td>\n",
       "      <td>150</td>\n",
       "      <td>3.0</td>\n",
       "      <td>17.0</td>\n",
       "      <td>13</td>\n",
       "      <td>160</td>\n",
       "      <td>25</td>\n",
       "      <td>3</td>\n",
       "      <td>1.5</td>\n",
       "      <td>0.67</td>\n",
       "      <td>30.313351</td>\n",
       "      <td>0.16</td>\n",
       "      <td>8.666667</td>\n",
       "    </tr>\n",
       "    <tr>\n",
       "      <th>44</th>\n",
       "      <td>Muesli Raisins; Dates; &amp; Almonds</td>\n",
       "      <td>R</td>\n",
       "      <td>C</td>\n",
       "      <td>150</td>\n",
       "      <td>4</td>\n",
       "      <td>3</td>\n",
       "      <td>95</td>\n",
       "      <td>3.0</td>\n",
       "      <td>16.0</td>\n",
       "      <td>11</td>\n",
       "      <td>170</td>\n",
       "      <td>25</td>\n",
       "      <td>3</td>\n",
       "      <td>1.0</td>\n",
       "      <td>1.00</td>\n",
       "      <td>37.136863</td>\n",
       "      <td>0.17</td>\n",
       "      <td>11.000000</td>\n",
       "    </tr>\n",
       "    <tr>\n",
       "      <th>45</th>\n",
       "      <td>Muesli Raisins; Peaches; &amp; Pecans</td>\n",
       "      <td>R</td>\n",
       "      <td>C</td>\n",
       "      <td>150</td>\n",
       "      <td>4</td>\n",
       "      <td>3</td>\n",
       "      <td>150</td>\n",
       "      <td>3.0</td>\n",
       "      <td>16.0</td>\n",
       "      <td>11</td>\n",
       "      <td>170</td>\n",
       "      <td>25</td>\n",
       "      <td>3</td>\n",
       "      <td>1.0</td>\n",
       "      <td>1.00</td>\n",
       "      <td>34.139765</td>\n",
       "      <td>0.17</td>\n",
       "      <td>11.000000</td>\n",
       "    </tr>\n",
       "  </tbody>\n",
       "</table>\n",
       "</div>"
      ],
      "text/plain": [
       "                                 name mfr type  calories  protein  fat  \\\n",
       "46               Mueslix Crispy Blend   K    C       160        3    2   \n",
       "44   Muesli Raisins; Dates; & Almonds   R    C       150        4    3   \n",
       "45  Muesli Raisins; Peaches; & Pecans   R    C       150        4    3   \n",
       "\n",
       "    sodium  fiber  carbo  sugars  potass  vitamins  shelf  weight  cups  \\\n",
       "46     150    3.0   17.0      13     160        25      3     1.5  0.67   \n",
       "44      95    3.0   16.0      11     170        25      3     1.0  1.00   \n",
       "45     150    3.0   16.0      11     170        25      3     1.0  1.00   \n",
       "\n",
       "       rating  grams_potassium  sugar_weight  \n",
       "46  30.313351             0.16      8.666667  \n",
       "44  37.136863             0.17     11.000000  \n",
       "45  34.139765             0.17     11.000000  "
      ]
     },
     "execution_count": 15,
     "metadata": {},
     "output_type": "execute_result"
    }
   ],
   "source": [
    "cereal_df.sort_values(by=['calories'], ascending=False)[:3]"
   ]
  },
  {
   "cell_type": "markdown",
   "metadata": {
    "id": "P9Sf9DJcNrFq"
   },
   "source": [
    "# Grouping and Aggregating the Data\n",
    "\n",
    "Sometimes we want to look at our data at a different granularity. Pandas allows us to do this by grouping on columns.\n",
    "\n",
    "For example to look at the average values for cold vs hot cereal: \\\n",
    "```\n",
    "hot_cold_df = cereal_df.groupby([\"type\"]).mean().reset_index()\n",
    "```\n",
    "\n",
    "---\n",
    "\n",
    "Q: Can you create a dataframe that is grouped by date?\\\n",
    "Q: What is the shape/dimensions of the new data frame? Does this make sense based off of the number of recorded days of data? \n",
    "Q: What does this new data frame represent?\n",
    "\n",
    "You can also print off the head of this new data frame if you want to get a better sense of what it includes.\n",
    "\n"
   ]
  },
  {
   "cell_type": "markdown",
   "metadata": {
    "id": "JBS5mgWONrFs"
   },
   "source": [
    "### Q: What are the average cereal measurements per manufacturer of cereal (mfr) ?"
   ]
  },
  {
   "cell_type": "code",
   "execution_count": 16,
   "metadata": {
    "id": "1voxOXBXNrFt",
    "outputId": "3b711234-640e-4d90-c152-ecf3282a52be"
   },
   "outputs": [
    {
     "data": {
      "text/html": [
       "<div>\n",
       "<style scoped>\n",
       "    .dataframe tbody tr th:only-of-type {\n",
       "        vertical-align: middle;\n",
       "    }\n",
       "\n",
       "    .dataframe tbody tr th {\n",
       "        vertical-align: top;\n",
       "    }\n",
       "\n",
       "    .dataframe thead th {\n",
       "        text-align: right;\n",
       "    }\n",
       "</style>\n",
       "<table border=\"1\" class=\"dataframe\">\n",
       "  <thead>\n",
       "    <tr style=\"text-align: right;\">\n",
       "      <th></th>\n",
       "      <th>mfr</th>\n",
       "      <th>calories</th>\n",
       "      <th>protein</th>\n",
       "      <th>fat</th>\n",
       "      <th>sodium</th>\n",
       "      <th>fiber</th>\n",
       "      <th>carbo</th>\n",
       "      <th>sugars</th>\n",
       "      <th>potass</th>\n",
       "      <th>vitamins</th>\n",
       "      <th>shelf</th>\n",
       "      <th>weight</th>\n",
       "      <th>cups</th>\n",
       "      <th>rating</th>\n",
       "      <th>grams_potassium</th>\n",
       "      <th>sugar_weight</th>\n",
       "    </tr>\n",
       "  </thead>\n",
       "  <tbody>\n",
       "    <tr>\n",
       "      <th>0</th>\n",
       "      <td>A</td>\n",
       "      <td>100.000000</td>\n",
       "      <td>4.000000</td>\n",
       "      <td>1.000000</td>\n",
       "      <td>0.000000</td>\n",
       "      <td>0.000000</td>\n",
       "      <td>16.000000</td>\n",
       "      <td>3.000000</td>\n",
       "      <td>95.000000</td>\n",
       "      <td>25.000000</td>\n",
       "      <td>2.000000</td>\n",
       "      <td>1.000000</td>\n",
       "      <td>1.000000</td>\n",
       "      <td>54.850917</td>\n",
       "      <td>0.095000</td>\n",
       "      <td>3.000000</td>\n",
       "    </tr>\n",
       "    <tr>\n",
       "      <th>1</th>\n",
       "      <td>G</td>\n",
       "      <td>111.363636</td>\n",
       "      <td>2.318182</td>\n",
       "      <td>1.363636</td>\n",
       "      <td>200.454545</td>\n",
       "      <td>1.272727</td>\n",
       "      <td>14.727273</td>\n",
       "      <td>7.954545</td>\n",
       "      <td>85.227273</td>\n",
       "      <td>35.227273</td>\n",
       "      <td>2.136364</td>\n",
       "      <td>1.049091</td>\n",
       "      <td>0.875000</td>\n",
       "      <td>34.485852</td>\n",
       "      <td>0.085227</td>\n",
       "      <td>7.561290</td>\n",
       "    </tr>\n",
       "    <tr>\n",
       "      <th>2</th>\n",
       "      <td>K</td>\n",
       "      <td>108.695652</td>\n",
       "      <td>2.652174</td>\n",
       "      <td>0.608696</td>\n",
       "      <td>174.782609</td>\n",
       "      <td>2.739130</td>\n",
       "      <td>15.130435</td>\n",
       "      <td>7.565217</td>\n",
       "      <td>103.043478</td>\n",
       "      <td>34.782609</td>\n",
       "      <td>2.347826</td>\n",
       "      <td>1.077826</td>\n",
       "      <td>0.796087</td>\n",
       "      <td>44.038462</td>\n",
       "      <td>0.103043</td>\n",
       "      <td>6.952088</td>\n",
       "    </tr>\n",
       "    <tr>\n",
       "      <th>3</th>\n",
       "      <td>N</td>\n",
       "      <td>86.666667</td>\n",
       "      <td>2.833333</td>\n",
       "      <td>0.166667</td>\n",
       "      <td>37.500000</td>\n",
       "      <td>4.000000</td>\n",
       "      <td>16.000000</td>\n",
       "      <td>1.833333</td>\n",
       "      <td>120.666667</td>\n",
       "      <td>8.333333</td>\n",
       "      <td>1.666667</td>\n",
       "      <td>0.971667</td>\n",
       "      <td>0.778333</td>\n",
       "      <td>67.968567</td>\n",
       "      <td>0.120667</td>\n",
       "      <td>1.833333</td>\n",
       "    </tr>\n",
       "    <tr>\n",
       "      <th>4</th>\n",
       "      <td>P</td>\n",
       "      <td>108.888889</td>\n",
       "      <td>2.444444</td>\n",
       "      <td>0.888889</td>\n",
       "      <td>146.111111</td>\n",
       "      <td>2.777778</td>\n",
       "      <td>13.222222</td>\n",
       "      <td>8.777778</td>\n",
       "      <td>113.888889</td>\n",
       "      <td>25.000000</td>\n",
       "      <td>2.444444</td>\n",
       "      <td>1.064444</td>\n",
       "      <td>0.714444</td>\n",
       "      <td>41.705744</td>\n",
       "      <td>0.113889</td>\n",
       "      <td>8.169591</td>\n",
       "    </tr>\n",
       "    <tr>\n",
       "      <th>5</th>\n",
       "      <td>Q</td>\n",
       "      <td>95.000000</td>\n",
       "      <td>2.625000</td>\n",
       "      <td>1.750000</td>\n",
       "      <td>92.500000</td>\n",
       "      <td>1.337500</td>\n",
       "      <td>10.000000</td>\n",
       "      <td>5.250000</td>\n",
       "      <td>74.375000</td>\n",
       "      <td>12.500000</td>\n",
       "      <td>2.375000</td>\n",
       "      <td>0.875000</td>\n",
       "      <td>0.823750</td>\n",
       "      <td>42.915990</td>\n",
       "      <td>0.074375</td>\n",
       "      <td>5.250000</td>\n",
       "    </tr>\n",
       "    <tr>\n",
       "      <th>6</th>\n",
       "      <td>R</td>\n",
       "      <td>115.000000</td>\n",
       "      <td>2.500000</td>\n",
       "      <td>1.250000</td>\n",
       "      <td>198.125000</td>\n",
       "      <td>1.875000</td>\n",
       "      <td>17.625000</td>\n",
       "      <td>6.125000</td>\n",
       "      <td>89.250000</td>\n",
       "      <td>25.000000</td>\n",
       "      <td>2.000000</td>\n",
       "      <td>1.000000</td>\n",
       "      <td>0.871250</td>\n",
       "      <td>41.542997</td>\n",
       "      <td>0.089250</td>\n",
       "      <td>6.125000</td>\n",
       "    </tr>\n",
       "  </tbody>\n",
       "</table>\n",
       "</div>"
      ],
      "text/plain": [
       "  mfr    calories   protein       fat      sodium     fiber      carbo  \\\n",
       "0   A  100.000000  4.000000  1.000000    0.000000  0.000000  16.000000   \n",
       "1   G  111.363636  2.318182  1.363636  200.454545  1.272727  14.727273   \n",
       "2   K  108.695652  2.652174  0.608696  174.782609  2.739130  15.130435   \n",
       "3   N   86.666667  2.833333  0.166667   37.500000  4.000000  16.000000   \n",
       "4   P  108.888889  2.444444  0.888889  146.111111  2.777778  13.222222   \n",
       "5   Q   95.000000  2.625000  1.750000   92.500000  1.337500  10.000000   \n",
       "6   R  115.000000  2.500000  1.250000  198.125000  1.875000  17.625000   \n",
       "\n",
       "     sugars      potass   vitamins     shelf    weight      cups     rating  \\\n",
       "0  3.000000   95.000000  25.000000  2.000000  1.000000  1.000000  54.850917   \n",
       "1  7.954545   85.227273  35.227273  2.136364  1.049091  0.875000  34.485852   \n",
       "2  7.565217  103.043478  34.782609  2.347826  1.077826  0.796087  44.038462   \n",
       "3  1.833333  120.666667   8.333333  1.666667  0.971667  0.778333  67.968567   \n",
       "4  8.777778  113.888889  25.000000  2.444444  1.064444  0.714444  41.705744   \n",
       "5  5.250000   74.375000  12.500000  2.375000  0.875000  0.823750  42.915990   \n",
       "6  6.125000   89.250000  25.000000  2.000000  1.000000  0.871250  41.542997   \n",
       "\n",
       "   grams_potassium  sugar_weight  \n",
       "0         0.095000      3.000000  \n",
       "1         0.085227      7.561290  \n",
       "2         0.103043      6.952088  \n",
       "3         0.120667      1.833333  \n",
       "4         0.113889      8.169591  \n",
       "5         0.074375      5.250000  \n",
       "6         0.089250      6.125000  "
      ]
     },
     "execution_count": 16,
     "metadata": {},
     "output_type": "execute_result"
    }
   ],
   "source": [
    "mfr_df = cereal_df.groupby(['mfr']).mean().reset_index()\n",
    "mfr_df"
   ]
  },
  {
   "cell_type": "markdown",
   "metadata": {
    "id": "kcnoEQk8Z_Mc"
   },
   "source": [
    "# Eliminating Rows\n",
    "\n",
    "Sometimes our dataset contains null values which we may need to eliminate in order to perform more complex operations on the dataset. One strategy for dealing with such null values is elimination. For example, if we wanted to eliminate rows which contain null values for every single column, we would do: \n",
    "```\n",
    "cereal_df.dropna(axis=0, how='all', inplace=True) \n",
    "```\n",
    "*   axis=0 indicates that you want to eliminate null rows rather than columns. Technically, the axis parameter is set to 0 by default, so you do not need to specify this if you are solely interested in eliminating rows with null values. However, if you want to eliminate columns with null values, the axis parameter should be set to 1. \n",
    "*   how='all' indicates that you only want to eliminate rows where all values in the row are null. If you want to eliminate rows where any value in the row is null, use 'any'. By default, the how parameter is set to 'any' since, most of the time, we are interested in eliminating rows where even a single value is null. \n",
    "*   inplace=True indicates that you want to eliminate the rows in the dataframe directly rather than generate a new dataframe which you then have to save to cereal_df once again. By default, inplace is set to False. \n",
    "\n"
   ]
  },
  {
   "cell_type": "markdown",
   "metadata": {
    "id": "FtMKiSoTckzP"
   },
   "source": [
    "### Q: Read in the second provided dataset: cereal_null.csv"
   ]
  },
  {
   "cell_type": "code",
   "execution_count": 17,
   "metadata": {
    "colab": {
     "base_uri": "https://localhost:8080/",
     "height": 387
    },
    "executionInfo": {
     "elapsed": 92,
     "status": "error",
     "timestamp": 1631541523844,
     "user": {
      "displayName": "Vinay Tummarakota",
      "photoUrl": "https://lh3.googleusercontent.com/a-/AOh14Ghr9RRDGNwGA3qxU89qMYCU61iCuFy2G2u21I4CqA=s64",
      "userId": "11798032969015149050"
     },
     "user_tz": 300
    },
    "id": "0unn4SdDcr2-",
    "outputId": "00a77a69-b929-4dbb-b185-4e108c700294"
   },
   "outputs": [],
   "source": [
    "path = './cereal_null.csv'\n",
    "cereal_null_df = pd.read_csv(path)"
   ]
  },
  {
   "cell_type": "markdown",
   "metadata": {
    "id": "hs0eR3KxdJPq"
   },
   "source": [
    "### Q: Which columns of the dataset contain null values? \n",
    "(Hint: Combine .isna() with an additional function)"
   ]
  },
  {
   "cell_type": "code",
   "execution_count": 18,
   "metadata": {
    "id": "-cGEjgITdlcY"
   },
   "outputs": [
    {
     "data": {
      "text/plain": [
       "name        False\n",
       "mfr         False\n",
       "type        False\n",
       "calories     True\n",
       "protein     False\n",
       "fat         False\n",
       "sodium      False\n",
       "fiber       False\n",
       "carbo       False\n",
       "sugars      False\n",
       "potass      False\n",
       "vitamins    False\n",
       "shelf       False\n",
       "weight      False\n",
       "cups        False\n",
       "rating      False\n",
       "dtype: bool"
      ]
     },
     "execution_count": 18,
     "metadata": {},
     "output_type": "execute_result"
    }
   ],
   "source": [
    "cereal_null_df.isna().any()"
   ]
  },
  {
   "cell_type": "markdown",
   "metadata": {
    "id": "1wYRmOK4dpcv"
   },
   "source": [
    "### Q: Eliminate any row in the dataframe which contains at least one null value. "
   ]
  },
  {
   "cell_type": "code",
   "execution_count": 19,
   "metadata": {
    "id": "9T-i2LQKeLW4"
   },
   "outputs": [],
   "source": [
    "cereal_null_df.dropna(inplace=True)"
   ]
  },
  {
   "cell_type": "markdown",
   "metadata": {
    "id": "LnIe6q1peQLd"
   },
   "source": [
    "### Q: Verify that there are no null values remaining in the dataset using a command from a previous question. "
   ]
  },
  {
   "cell_type": "code",
   "execution_count": 20,
   "metadata": {
    "id": "S1Dq42CLeX3r"
   },
   "outputs": [
    {
     "data": {
      "text/plain": [
       "name        False\n",
       "mfr         False\n",
       "type        False\n",
       "calories    False\n",
       "protein     False\n",
       "fat         False\n",
       "sodium      False\n",
       "fiber       False\n",
       "carbo       False\n",
       "sugars      False\n",
       "potass      False\n",
       "vitamins    False\n",
       "shelf       False\n",
       "weight      False\n",
       "cups        False\n",
       "rating      False\n",
       "dtype: bool"
      ]
     },
     "execution_count": 20,
     "metadata": {},
     "output_type": "execute_result"
    }
   ],
   "source": [
    "cereal_null_df.isna().any()"
   ]
  },
  {
   "cell_type": "markdown",
   "metadata": {
    "id": "LoIRBZ35eaAi"
   },
   "source": [
    "# Imputing Rows Into a Dataset\n",
    "Elimination is not always ideal for dealing with null values. In cases where eliminating rows leads to massive decreases in the size of a dataset, imputation **might** prove to be a superior alternative. There are two common methods to perform imputation. The first is a simple pandas function: \n",
    "```\n",
    "df = df.fillna(df.mean())\n",
    "```\n",
    "Notice that this imputes the average value of a column for null values in the dataset. An alternative method to perform imputation involves the numpy and scikit-learn libraries.\n",
    "```\n",
    "from sklearn.impute import SimpleImputer\n",
    "import numpy as np\n",
    "```\n",
    "To run the SimpleImputer, we would do: \n",
    "```\n",
    "imp = SimpleImputer(missing_values = np.nan, strategy='mean')\n",
    "df = imp.fit_transform(df.values)\n",
    "```\n",
    "*   *missing_values = np.nan* specifies which kinds of values we want to replace via imputation. np.nan refers to the NaN (not a number) value stored within numpy. \n",
    "*   *strategy = mean* indicates that we want to replace all null values with the mean value for the column that the value belongs to\n",
    "*   *fit_transform* is somewhat complex. In scikit-learn, the SimpleImputer() belongs to a class of operations known as **transformers** whose job is to transform data. The transformer accomplishes this via a two-step process - fit() and transform() - which can be consolidated into a single step fit_transform() as shown above. fit() allows the transformer to understand parameters of the data while transform() uses these parameters to modify the dataset. In the case of SimpleImputer, the parameters are the missing values in question. \n",
    "\n",
    "At this point, you might ask, \"Why would we go through the trouble of using SimpleImputer() if pandas has more readable, easier-to-implement alternative?\" \n",
    "\n",
    "The answer boils down to the stronger power of the scikit-learn library relative to pandas. Unlike pandas, scikit-learn allows data scientists to make use of pipelines which enable the same transformations of a given dataset to be applied to multiple datasets with minimal code duplication. For more on scikit-learn piplines, feel free to consult sklearn documentation: https://scikit-learn.org/stable/modules/generated/sklearn.pipeline.Pipeline.html\n",
    "\n",
    "\n",
    "\n"
   ]
  },
  {
   "cell_type": "markdown",
   "metadata": {
    "id": "POlv8-gCmRdF"
   },
   "source": [
    "### Q: Re-read the same cereal dataset with null values \n",
    "We need to re-read the file because we already eliminated all null values using the dropna() command previously, meaning we'd have nothing to impute"
   ]
  },
  {
   "cell_type": "code",
   "execution_count": 21,
   "metadata": {
    "id": "Y1q8wyidmgu6"
   },
   "outputs": [],
   "source": [
    "path = './cereal_null.csv'\n",
    "cereal_null_df = pd.read_csv(path)"
   ]
  },
  {
   "cell_type": "markdown",
   "metadata": {
    "id": "g9ZOW6O-mmNN"
   },
   "source": [
    "### Q: Verify that this dataset contains null values"
   ]
  },
  {
   "cell_type": "code",
   "execution_count": 22,
   "metadata": {
    "id": "u21p8Zdomrns"
   },
   "outputs": [
    {
     "data": {
      "text/plain": [
       "name        False\n",
       "mfr         False\n",
       "type        False\n",
       "calories     True\n",
       "protein     False\n",
       "fat         False\n",
       "sodium      False\n",
       "fiber       False\n",
       "carbo       False\n",
       "sugars      False\n",
       "potass      False\n",
       "vitamins    False\n",
       "shelf       False\n",
       "weight      False\n",
       "cups        False\n",
       "rating      False\n",
       "dtype: bool"
      ]
     },
     "execution_count": 22,
     "metadata": {},
     "output_type": "execute_result"
    }
   ],
   "source": [
    "cereal_null_df.isna().any()"
   ]
  },
  {
   "cell_type": "markdown",
   "metadata": {
    "id": "egBo4qkNmvjb"
   },
   "source": [
    "### Q: Use either of the two previously described methods to impute values into the dataset using the mode of the column (NOT mean)"
   ]
  },
  {
   "cell_type": "code",
   "execution_count": 23,
   "metadata": {
    "id": "S-_oivvOmutZ"
   },
   "outputs": [],
   "source": [
    "\"\"\"\n",
    "from sklearn.impute import SimpleImputer\n",
    "import numpy as np\n",
    "\n",
    "imp = SimpleImputer(missing_values = np.nan, strategy='most_frequent')\n",
    "imputed_cereal_data = imp.fit_transform(cereal_null_df.values)\n",
    "\"\"\"\n",
    "\n",
    "imputed_cereal_data = cereal_null_df.fillna(cereal_null_df.mode().loc[0])"
   ]
  },
  {
   "cell_type": "markdown",
   "metadata": {
    "id": "k0UAhuy9k_Gs"
   },
   "source": [
    "# One-Hot Encoding\n",
    "\n",
    "While categories of data like color ('red', 'blue', 'green') or profession ('doctor', 'teacher', 'engineer') are easily understood by humans, these kinds of categories are not always immediately meaningful to a computer. For this reason, it is often useful to encode such categorical data in a numeric format. When categorical data is ordered, it is recommended to use Label Encoding. However, when categorical data is **unordered** as was the case for the previous examples, it is recommended to use a process known as One-Hot Encoding. There are two common methods of one-hot encoding. To one-hot encode the first column of a dataset, we would do: \n",
    "```\n",
    "ohe_df = pd.get_dummies(df)\n",
    "```\n",
    "Using this function, pandas identifies all columns that contain string values and automatically one-hot encodes them. An alternative method to one-hot encoding can be performed using the scikit-learn library:\n",
    "```\n",
    "from sklearn.preprocessing import OneHotEncoder\n",
    "from sklearn.compose import ColumnTransformer\n",
    "\n",
    "c_transf = ColumnTransformer([\n",
    "  ('onehot', OneHotEncoder(), [colsToBeTransformed]), \n",
    "  ('nothing', 'passthrough', [colsToStaySame])\n",
    "])\n",
    "\n",
    "ohe_df = c_transf.fit_transform(df)\n",
    "```\n",
    "*   We first import the OneHotEncoder and ColumnTransformer from the scikit-learn library\n",
    "*   We then create a ColumnTransformer which can be used to encode only certain columns of the dataset but keep the others unchanged\n",
    "*   Notice that there is a list of several objects in the ColumnTransformer. Each object (denoted by parentheses) follows a set format: **(1) a phrase describing what this transformer does (2) the transformer itself (3) a list of columns (either represented by column names or column numbers) that will be affected by this transformation**\n",
    "*   You must specify which columns will NOT be affected by the transformation using the 'nothing' phrase. Otherwise, the transformation will remove these columns from the dataset entirely. "
   ]
  },
  {
   "cell_type": "markdown",
   "metadata": {
    "id": "vijpBkUqppEw"
   },
   "source": [
    "### Q. One-hot encode the manufacturer column of the dataset (denoted by 'mfr') using either pandas or scikit-learn"
   ]
  },
  {
   "cell_type": "code",
   "execution_count": 24,
   "metadata": {
    "id": "9d1iYQQXpu2P"
   },
   "outputs": [],
   "source": [
    "from sklearn.preprocessing import OneHotEncoder\n",
    "from sklearn.compose import ColumnTransformer\n",
    "\n",
    "non_mfr_cols = [col for col in list(cereal_df.columns) if col!='mfr']\n",
    "\n",
    "c_transf = ColumnTransformer([\n",
    "  ('onehot', OneHotEncoder(), ['mfr']), \n",
    "  ('nothing', 'passthrough', non_mfr_cols)\n",
    "])\n",
    "\n",
    "ohe_df = c_transf.fit_transform(cereal_df)\n",
    "\n",
    "#ohe_df = pd.get_dummies(cereal_df, columns=['state'])"
   ]
  }
 ],
 "metadata": {
  "colab": {
   "collapsed_sections": [],
   "name": "DEEP2-Solutions.ipynb",
   "provenance": []
  },
  "kernelspec": {
   "display_name": "Python 3",
   "language": "python",
   "name": "python3"
  },
  "language_info": {
   "codemirror_mode": {
    "name": "ipython",
    "version": 3
   },
   "file_extension": ".py",
   "mimetype": "text/x-python",
   "name": "python",
   "nbconvert_exporter": "python",
   "pygments_lexer": "ipython3",
   "version": "3.8.8"
  },
  "toc": {
   "base_numbering": 1,
   "nav_menu": {},
   "number_sections": true,
   "sideBar": true,
   "skip_h1_title": false,
   "title_cell": "Table of Contents",
   "title_sidebar": "Contents",
   "toc_cell": false,
   "toc_position": {},
   "toc_section_display": true,
   "toc_window_display": false
  }
 },
 "nbformat": 4,
 "nbformat_minor": 1
}
