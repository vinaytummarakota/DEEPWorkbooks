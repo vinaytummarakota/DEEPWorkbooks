{
 "cells": [
  {
   "cell_type": "markdown",
   "metadata": {},
   "source": [
    "# Dimensionality Reduction \n",
    "\n",
    "## DEEP Workshop #2\n",
    "The goal of this notebook is to provide an introduction to dimensionality reduction. \n",
    "\n",
    "### Table of contents: \n",
    "1. What is Dimensionality Reduction? \n",
    "2. Standardization\n",
    "3. Principal Components Analysis\n",
    "4. Linear Discriminant Analysis\n",
    "5. PCA vs. LDA\n",
    "\n",
    "### Data Overview \n",
    "We are using a dataset containing information about different wines grown in a particular region of Italy. The variable of interest is \"Cultivar\" which refers to the location in which each wine was grown. There are a total of 3 cultivars in the dataset. The remaining columns of the dataset describe the chemical properties of the wine. \n",
    "   \n",
    "You can find more about the dataset here: https://archive.ics.uci.edu/ml/datasets/wine\n",
    "\n",
    "**Citation For Lesson Plan:** Raschka, Sebastian. (2019). Python for Machine Learning, 3rd Edition"
   ]
  },
  {
   "cell_type": "code",
   "execution_count": 1,
   "metadata": {},
   "outputs": [],
   "source": [
    "import pandas as pd"
   ]
  },
  {
   "cell_type": "code",
   "execution_count": 2,
   "metadata": {},
   "outputs": [],
   "source": [
    "df_wine = pd.read_csv('https://archive.ics.uci.edu/ml/machine-learning-databases/wine/wine.data', header=None)\n",
    "df_wine.columns = ['Cultivar', 'Alcohol', 'Malic acid', 'Ash','Alcalinity of ash', 'Magnesium','Total phenols', \n",
    "                   'Flavanoids', 'Nonflavanoid phenols', 'Proanthocyanins', 'Color intensity', 'Hue', \n",
    "                   'OD280/OD315 of diluted wines', 'Proline']"
   ]
  },
  {
   "cell_type": "markdown",
   "metadata": {},
   "source": [
    "# What is Dimensionality Reduction?\n",
    "\n",
    "Imagine that we have a dataset with $n$ rows and $m$ colums. What issues might arise if $m$ is quite large? One issue is known as the \"curse of dimensionality\". The \"curse of dimensionality\" refers to the fact that, when working in a high dimensional space (e.g. a dataset with $m$ columns where $m$ is very large), data within that high-dimensional space becomes quite sparse, or distant from one another. This sparsity becomes an issue because it means that any kind of relationships we want to learn from the dataset may not generalize to the larger population from which the dataset was collected. Put another way, our dataset cannot fully capture the vastness of the high-dimensional space it occupies. \n",
    "\n",
    "To address the \"curse of dimensionality\", dimensionality reduction aims to project a given dataset into a lower-dimensional space. Suppose that a given dataset has $n$ rows and $m$ columns. At a general level, dimensionality reduction utilizes matrix multiplication to convert this $n \\times m$ dataset into an $n \\times k$ dataset (using a matrix of size $m \\times k$) where $k < m$. Importantly, the $m \\times k$ matrix is constructed in such a way that the key relationships between variables in the original dataset are preserved in the projected $n \\times k$ dataset."
   ]
  },
  {
   "cell_type": "markdown",
   "metadata": {},
   "source": [
    "# Standardization\n",
    "\n",
    "Before we can apply dimensionality reduction techniques to our dataset, we must first standardize our dataset (ensure that all variables have a mean of 0 and standard deviation of 1). If we do not apply standardization before dimensionality reduction, we risk preserving improper relationships between variables when the dataset is projected into a lower dimension. First, run the following lines of code to create a training dataset and testing dataset. Then, read this article to implement standardization for all feature variables in both the testing and training dataset. (https://stackabuse.com/implementing-pca-in-python-with-scikit-learn/)"
   ]
  },
  {
   "cell_type": "code",
   "execution_count": 3,
   "metadata": {},
   "outputs": [],
   "source": [
    "from sklearn.model_selection import train_test_split\n",
    "from sklearn.preprocessing import StandardScaler"
   ]
  },
  {
   "cell_type": "code",
   "execution_count": 4,
   "metadata": {},
   "outputs": [],
   "source": [
    "X, y = df_wine.iloc[:,1:], df_wine.iloc[:,0]\n",
    "X_train, X_test, y_train, y_test = train_test_split(X, y, test_size=0.3, stratify=y, random_state=0)"
   ]
  },
  {
   "cell_type": "code",
   "execution_count": 1,
   "metadata": {},
   "outputs": [
    {
     "ename": "SyntaxError",
     "evalue": "invalid syntax (<ipython-input-1-ddc22242b667>, line 1)",
     "output_type": "error",
     "traceback": [
      "\u001b[1;36m  File \u001b[1;32m\"<ipython-input-1-ddc22242b667>\"\u001b[1;36m, line \u001b[1;32m1\u001b[0m\n\u001b[1;33m    sc = #instantiate standard scaler\u001b[0m\n\u001b[1;37m         ^\u001b[0m\n\u001b[1;31mSyntaxError\u001b[0m\u001b[1;31m:\u001b[0m invalid syntax\n"
     ]
    }
   ],
   "source": [
    "sc = #create the standard scaler \n",
    "X_train_std = #apply the standard scaler to the training dataset\n",
    "X_test_std = #apply the standard scaler to the testing dataset"
   ]
  },
  {
   "cell_type": "markdown",
   "metadata": {},
   "source": [
    "# Principal Components Analysis\n",
    "Earlier in the workbook, we claimed that the $m \\times k$ matrix is constructed in such a way that the key relationships between variables in the original dataset are preserved in the projected dataset. But what does this actually mean? The short answer is that it depends on the type of dimensionality reduction being performed. While there are many methods for dimensionality reduction, we'll focus on a method called \"Principal Components Analysis\" or PCA. \n",
    "\n",
    "PCA projects the dataset along axes (also called \"principal components\") which maximize the variance (or spread) of the data. To contextualize this process better, imagine that you were given a large glob of play-doh. And then gradually, you discard portions of the play-doh while stretching out the remaining play-doh as thinly as possibly. PCA treats the input dataset similarly, reducing the number of dimensions of the dataset while maximizing the dataset's coverage the lower-dimensional space. \n",
    "\n",
    "Task: Apply PCA to the standardized input dataset where the dataset is projected into two dimensional space (in other words, the # of principal components must be 2). Make sure to use the .shape attribute to verify that your new dataset is indeed in two dimensional space (https://stackabuse.com/implementing-pca-in-python-with-scikit-learn/)"
   ]
  },
  {
   "cell_type": "code",
   "execution_count": 6,
   "metadata": {},
   "outputs": [],
   "source": [
    "from sklearn.decomposition import PCA"
   ]
  },
  {
   "cell_type": "code",
   "execution_count": 7,
   "metadata": {},
   "outputs": [],
   "source": [
    "pca = # create the PCA transformer w/2 components\n",
    "X_train_pca = # apply pca to the training dataset\n",
    "X_test_pca = # apply pca to the testing dataset"
   ]
  },
  {
   "cell_type": "code",
   "execution_count": 8,
   "metadata": {},
   "outputs": [
    {
     "data": {
      "text/plain": [
       "(124, 2)"
      ]
     },
     "execution_count": 8,
     "metadata": {},
     "output_type": "execute_result"
    }
   ],
   "source": [
    "X_train_pca.shape"
   ]
  },
  {
   "cell_type": "markdown",
   "metadata": {},
   "source": [
    "# Linear Discriminant Analysis\n",
    "Linear Discriminant Analysis, or LDA, is an alternative method of dimensionality reduction. Rather than reduce dimensions in a way that maximizes the variance of the dataset, LDA makes use of class labels to maximize the distance between the means of each class while minimizing the variance within each class of data. \n",
    "\n",
    "Task: Apply LDA to the standardized input dataset where the dataset is projected into two dimensional space (the # of components must be 2). Make sure to use the .shape attribute to verify that your new dataset is indeed in two dimensional space. (Hint: the implementation process is basically the same as PCA only with a different object https://scikit-learn.org/stable/modules/generated/sklearn.discriminant_analysis.LinearDiscriminantAnalysis.html)"
   ]
  },
  {
   "cell_type": "code",
   "execution_count": 9,
   "metadata": {},
   "outputs": [],
   "source": [
    "from sklearn.discriminant_analysis import LinearDiscriminantAnalysis as LDA"
   ]
  },
  {
   "cell_type": "code",
   "execution_count": null,
   "metadata": {},
   "outputs": [],
   "source": [
    "lda = #create lda transformer w/2 components\n",
    "X_train_lda = #apply lda to training dataset\n",
    "X_test_lda = #apply lda to testing dataset"
   ]
  },
  {
   "cell_type": "code",
   "execution_count": 10,
   "metadata": {},
   "outputs": [
    {
     "data": {
      "text/plain": [
       "(124, 2)"
      ]
     },
     "execution_count": 10,
     "metadata": {},
     "output_type": "execute_result"
    }
   ],
   "source": [
    "X_train_lda.shape"
   ]
  },
  {
   "cell_type": "markdown",
   "metadata": {},
   "source": [
    "# PCA vs LDA\n",
    "When applied to the wine dataset, is PCA or LDA more useful for predicting whether a wine belongs to Cultivar 1, Cultivar 2, or Cultivar 3? Run the following code to find out! (The code basically creates a machine learning model that tries to predict the cultivar based on the chemical properties of the wine. The model is applied to the PCA-transformed dataset and LDA-transformed dataset to determine which dataset yields better predictions)"
   ]
  },
  {
   "cell_type": "code",
   "execution_count": 11,
   "metadata": {},
   "outputs": [],
   "source": [
    "from sklearn.linear_model import LogisticRegression\n",
    "import matplotlib.pyplot as plt\n",
    "from matplotlib.colors import ListedColormap\n",
    "import numpy as np"
   ]
  },
  {
   "cell_type": "code",
   "execution_count": 12,
   "metadata": {},
   "outputs": [
    {
     "data": {
      "text/plain": [
       "LogisticRegression(multi_class='ovr', random_state=1)"
      ]
     },
     "execution_count": 12,
     "metadata": {},
     "output_type": "execute_result"
    }
   ],
   "source": [
    "lr = LogisticRegression(multi_class='ovr',random_state=1,solver='lbfgs')\n",
    "lr.fit(X_train_pca, y_train)"
   ]
  },
  {
   "cell_type": "code",
   "execution_count": 13,
   "metadata": {},
   "outputs": [],
   "source": [
    "def plot_decision_regions(X, y, classifier, resolution=0.02):\n",
    "    # setup marker generator and color map\n",
    "    markers = ('s', 'x', 'o', '^', 'v')\n",
    "    colors = ('red', 'blue', 'lightgreen', 'gray', 'cyan')\n",
    "    cmap = ListedColormap(colors[:len(np.unique(y))])\n",
    "\n",
    "    # plot the decision surface\n",
    "    x1_min, x1_max = X[:, 0].min() - 1, X[:, 0].max() + 1\n",
    "    x2_min, x2_max = X[:, 1].min() - 1, X[:, 1].max() + 1\n",
    "    xx1, xx2 = np.meshgrid(np.arange(x1_min, x1_max, resolution),\n",
    "                           np.arange(x2_min, x2_max, resolution))\n",
    "    Z = classifier.predict(np.array([xx1.ravel(), xx2.ravel()]).T)\n",
    "    Z = Z.reshape(xx1.shape)\n",
    "    plt.contourf(xx1, xx2, Z, alpha=0.4, cmap=cmap)\n",
    "    plt.xlim(xx1.min(), xx1.max())\n",
    "    plt.ylim(xx2.min(), xx2.max())\n",
    "\n",
    "    # plot examples by class\n",
    "    for idx, cl in enumerate(np.unique(y)):\n",
    "        plt.scatter(x=X[y == cl, 0],\n",
    "                    y=X[y == cl, 1],\n",
    "                    alpha=0.6,\n",
    "                    color=cmap(idx),\n",
    "                    edgecolor='black',\n",
    "                    marker=markers[idx],\n",
    "                    label=cl)"
   ]
  },
  {
   "cell_type": "code",
   "execution_count": 14,
   "metadata": {},
   "outputs": [
    {
     "data": {
      "image/png": "[encoded data removed]",
      "text/plain": [
       "<Figure size 432x288 with 1 Axes>"
      ]
     },
     "metadata": {
      "needs_background": "light"
     },
     "output_type": "display_data"
    }
   ],
   "source": [
    "# Plot result of model on PCA data\n",
    "plot_decision_regions(X_train_pca, y_train, classifier=lr)\n",
    "plt.xlabel('PC 1')\n",
    "plt.ylabel('PC 2')\n",
    "plt.show()"
   ]
  },
  {
   "cell_type": "code",
   "execution_count": 15,
   "metadata": {},
   "outputs": [
    {
     "data": {
      "text/plain": [
       "LogisticRegression(multi_class='ovr', random_state=1)"
      ]
     },
     "execution_count": 15,
     "metadata": {},
     "output_type": "execute_result"
    }
   ],
   "source": [
    "lr.fit(X_train_lda, y_train)"
   ]
  },
  {
   "cell_type": "code",
   "execution_count": 16,
   "metadata": {},
   "outputs": [
    {
     "data": {
      "image/png": "[encoded data removed]",
      "text/plain": [
       "<Figure size 432x288 with 1 Axes>"
      ]
     },
     "metadata": {
      "needs_background": "light"
     },
     "output_type": "display_data"
    }
   ],
   "source": [
    "# Plot result of model on LDA data\n",
    "plot_decision_regions(X_train_lda, y_train, classifier=lr)\n",
    "plt.xlabel('LD 1')\n",
    "plt.ylabel('LD 2')\n",
    "plt.show()"
   ]
  },
  {
   "cell_type": "markdown",
   "metadata": {},
   "source": [
    "As demonstrated by the fewer number of misclassified data points in the second graph, the model applied to the LDA dataset outperforms the model applied to the PCA dataset. Why might this be the case? Unlike PCA, LDA takes the class labels for a given data point into consideration when projecting the data point into a lower dimension. Thus, LDA can project data points in such a way that points belonging to a particular class will be located further away from points belonging to a different class. For this reason, LDA is often (though not always) optimal for projecting a labelled dataset into a lower dimension. "
   ]
  }
 ],
 "metadata": {
  "kernelspec": {
   "display_name": "Python 3",
   "language": "python",
   "name": "python3"
  },
  "language_info": {
   "codemirror_mode": {
    "name": "ipython",
    "version": 3
   },
   "file_extension": ".py",
   "mimetype": "text/x-python",
   "name": "python",
   "nbconvert_exporter": "python",
   "pygments_lexer": "ipython3",
   "version": "3.8.8"
  }
 },
 "nbformat": 4,
 "nbformat_minor": 4
}
