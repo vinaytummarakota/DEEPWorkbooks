{
 "cells": [
  {
   "cell_type": "code",
   "execution_count": 1,
   "metadata": {},
   "outputs": [],
   "source": [
    "import pandas as pd\n",
    "import matplotlib.pyplot as plt\n",
    "from sklearn.datasets import load_breast_cancer\n",
    "from sklearn.svm import SVC\n",
    "from sklearn.model_selection import train_test_split\n",
    "from sklearn.metrics import f1_score"
   ]
  },
  {
   "cell_type": "markdown",
   "metadata": {},
   "source": [
    "# Ingest the Dataset"
   ]
  },
  {
   "cell_type": "code",
   "execution_count": 2,
   "metadata": {},
   "outputs": [],
   "source": [
    "features = pd.DataFrame(load_breast_cancer()['data'])\n",
    "features.columns = ['mean radius', 'mean texture', 'mean perimeter', 'mean area',\n",
    "        'mean smoothness', 'mean compactness', 'mean concavity',\n",
    "        'mean concave points', 'mean symmetry', 'mean fractal dimension',\n",
    "        'radius error', 'texture error', 'perimeter error', 'area error',\n",
    "        'smoothness error', 'compactness error', 'concavity error',\n",
    "        'concave points error', 'symmetry error',\n",
    "        'fractal dimension error', 'worst radius', 'worst texture',\n",
    "        'worst perimeter', 'worst area', 'worst smoothness',\n",
    "        'worst compactness', 'worst concavity', 'worst concave points',\n",
    "        'worst symmetry', 'worst fractal dimension']\n",
    "target = pd.DataFrame(load_breast_cancer()['target'])"
   ]
  },
  {
   "cell_type": "markdown",
   "metadata": {},
   "source": [
    "# Create Training, Validation, and Testing Datasets\n",
    "Apply the train_test_split() command to create a training, validation, and testing dataset (use test_size = 0.2)\n",
    "\n",
    "*HINT: You may need to use train_test_split() twice*"
   ]
  },
  {
   "cell_type": "code",
   "execution_count": 3,
   "metadata": {},
   "outputs": [],
   "source": [
    "X, X_test, y, y_test = train_test_split(features, target, test_size=0.2, random_state=0)"
   ]
  },
  {
   "cell_type": "code",
   "execution_count": 4,
   "metadata": {},
   "outputs": [],
   "source": [
    "X_train, X_val, y_train, y_val = train_test_split(X, y, test_size=0.2, random_state=0)"
   ]
  },
  {
   "cell_type": "markdown",
   "metadata": {},
   "source": [
    "# Hyperparameter Tuning\n",
    "Model parameters refer to quantities of a model that are estimated using data. For example, the coefficients of a linear regression model are parameters. Hyperparameters, on the other hand, are quantities of a model that are chosen by the programmer. These quantities may relate to how the model accounts for overfitting (regularization parameter) or how the model changes in response to data (learning rate). \n",
    "\n",
    "For this exercise, we will be exploring how changes in the regularization parameter affect the performance of a support vector machine classification model. At a high-level, the regularization parameter is high when the model penalizes overfitting (overfitting = learning the specifics of the dataset itself rather than trends within the data that generalize to new data points). \n",
    "\n",
    "The regularization parameter C is inversely proportional to the strength of the regularization. Thus, when C is high, the regularization is low, meaning that the model does not permit misclassifications. And when C is low, the regularization is high, meaning that the model allows the training dataset to misclassify a greater number of examples to prevent overfitting. "
   ]
  },
  {
   "cell_type": "markdown",
   "metadata": {},
   "source": [
    "# Run Model\n",
    "Build 7 support vector machines (using a linear kernel) that predict whether a given patient has cancer or not. Each support vector machine should have a different regularization parameter: (0.001, 0.01, 0.1, 1, 10, 100, 1000). Then, calculate the f1-score metric for each model. Lastly, identify the regularization parameter which yields the best model. For context, the f1-score is a function of both precision and recall and exists on a scale of 0 to 1.  \n",
    "\n",
    "*HINT: Use the following link (under the header \"Generating Model\") to see how to implement an SVM. Make use of scikit-learn documentation to identify how to change the regularization parameter.*\n",
    "\n",
    "https://www.datacamp.com/community/tutorials/svm-classification-scikit-learn-python\n",
    "\n",
    "https://scikit-learn.org/stable/modules/generated/sklearn.svm.SVC.html"
   ]
  },
  {
   "cell_type": "code",
   "execution_count": 5,
   "metadata": {},
   "outputs": [
    {
     "name": "stdout",
     "output_type": "stream",
     "text": [
      "Regularization Parameter: 0.001, F1-Score: 0.9532710280373831\n",
      "Regularization Parameter: 0.01, F1-Score: 0.9532710280373831\n",
      "Regularization Parameter: 0.1, F1-Score: 0.9532710280373831\n",
      "Regularization Parameter: 1, F1-Score: 0.9444444444444444\n",
      "Regularization Parameter: 10, F1-Score: 0.9629629629629629\n",
      "Regularization Parameter: 100, F1-Score: 0.9245283018867925\n",
      "Regularization Parameter: 1000, F1-Score: 0.9245283018867925\n"
     ]
    }
   ],
   "source": [
    "C = [0.001, 0.01, 0.1, 1, 10, 100, 1000]\n",
    "for reg_param in C: \n",
    "    model = SVC(kernel='linear', C=reg_param)\n",
    "    # ravel converts dataframe into 1D NumPy array\n",
    "    model.fit(X_train, y_train.values.ravel())\n",
    "    y_pred = model.predict(X_val)\n",
    "    print(\"Regularization Parameter: {}, F1-Score: {}\".format(reg_param, f1_score(y_val, y_pred)))"
   ]
  },
  {
   "cell_type": "markdown",
   "metadata": {},
   "source": [
    "# Testing\n",
    "Now that you've performed validation and identified the hyperparameters which yield the best-performing SVM, test that model on the testing dataset by generating a set of predictions and calcluating the f1-score. "
   ]
  },
  {
   "cell_type": "code",
   "execution_count": 6,
   "metadata": {},
   "outputs": [
    {
     "name": "stdout",
     "output_type": "stream",
     "text": [
      "F1-Score: 0.9624060150375939\n"
     ]
    }
   ],
   "source": [
    "final_model = SVC(kernel='linear', C=10)\n",
    "final_model.fit(X_train, y_train.values.ravel())\n",
    "final_pred = final_model.predict(X_test)\n",
    "print(\"F1-Score: {}\".format(f1_score(y_test, final_pred)))"
   ]
  }
 ],
 "metadata": {
  "kernelspec": {
   "display_name": "Python 3",
   "language": "python",
   "name": "python3"
  },
  "language_info": {
   "codemirror_mode": {
    "name": "ipython",
    "version": 3
   },
   "file_extension": ".py",
   "mimetype": "text/x-python",
   "name": "python",
   "nbconvert_exporter": "python",
   "pygments_lexer": "ipython3",
   "version": "3.8.8"
  }
 },
 "nbformat": 4,
 "nbformat_minor": 4
}
