{
 "cells": [
  {
   "cell_type": "markdown",
   "metadata": {
    "id": "x-Eoi9TuU8YK"
   },
   "source": [
    "# Exploring and Visualizing Data\n",
    "\n",
    "## DEEP Workshop #3\n",
    "The goal of this notebook is to give you exposure to basic visualizing tools in python.\n",
    "\n",
    "### Table of contents: \n",
    "1. Reading in Data\n",
    "2. Getting an Initial Sense for the Data\n",
    "3. Basic Plotting\n",
    "4. 1D Plotting\n",
    "5. Common Initial Plots\n",
    "6. Heat Maps and correlation\n",
    "\n",
    "### Data Overview \n",
    "You can either walk through this using your own data set or the pokemon data set. Either will work and its completely up to you.\n",
    "  "
   ]
  },
  {
   "cell_type": "markdown",
   "metadata": {
    "id": "n7oceAHCU8YM"
   },
   "source": [
    "# Reading in Data\n",
    "\n",
    "Just like last week before we begin working we need to import our libraries and read in the data.\n",
    "```\n",
    "import library_name as some_abbreviation\n",
    "```\n",
    "This weeks imports will be:\n",
    "```\n",
    "import seaborn as sns\n",
    "import pandas as pd\n",
    "import matplotlib.pyplot as plt\n",
    "```\n",
    "\n",
    "Usually to read in data we just use:\n",
    "```\n",
    "df = pd.read_csv('path or url to csv')\n",
    "```\n",
    "\n",
    "This week the format of the data is a bit unique so we will use: \n",
    "```\n",
    "df = pd.read_csv('path or url to csv', index_col=0, encoding = \"ISO-8859-1\")\n",
    "```"
   ]
  },
  {
   "cell_type": "code",
   "execution_count": null,
   "metadata": {
    "id": "ZWRRtV7vU8YN"
   },
   "outputs": [],
   "source": [
    "# import libraries "
   ]
  },
  {
   "cell_type": "code",
   "execution_count": null,
   "metadata": {
    "id": "FHTqgT8WU8YV"
   },
   "outputs": [],
   "source": [
    "# import your data "
   ]
  },
  {
   "cell_type": "markdown",
   "metadata": {
    "id": "fkrboyU5U8Yb"
   },
   "source": [
    "# Getting an Initial Sense for the Data \n",
    "\n",
    "Although we will be focusing on data viz this week we still need to get a basic understanding of the data we are \n",
    "working with. Using functions we learned last week try to solve the below problems. \n",
    "\n",
    "***If you can't remember how to do something try googling it. You will usually find what you need with \"pandas how to...\"***"
   ]
  },
  {
   "cell_type": "markdown",
   "metadata": {
    "id": "maF2_rUTU8Yc"
   },
   "source": [
    "### Q: What are the dimensions/shape of the dataset?\n",
    "### Q: What are each of the columns of the dataset?\n",
    "### Q: For each column determine if its nominal, ordinal, or continuous and why\n",
    "### Q: Is there anything strange that initially catches your eye about this data set? (Fine if not)"
   ]
  },
  {
   "cell_type": "code",
   "execution_count": null,
   "metadata": {
    "id": "veCGT5f8WZf7"
   },
   "outputs": [],
   "source": [
    "from google.colab import drive\n",
    "drive.mount('/content/drive')"
   ]
  },
  {
   "cell_type": "code",
   "execution_count": null,
   "metadata": {
    "id": "mXNXMZbiU8Yd"
   },
   "outputs": [],
   "source": []
  },
  {
   "cell_type": "markdown",
   "metadata": {
    "id": "ObNoxvhAU8Yg"
   },
   "source": [
    "# Basic Plotting \n",
    "\n",
    "To begin most plots you will want to specify a size:\n",
    "```\n",
    "plt.figure(figsize=(10,7))\n",
    "```\n",
    "\n",
    "Then you will want to create the actual plot:\n",
    "```\n",
    "chart = sns.scatterplot(x=\"col1\", y=\"col2\", data=df)\n",
    "```\n",
    "\n",
    "The general pattern for seaborn is sns.name_of_a_plot_type(kwargs)\n",
    "\n",
    "You then add extra details such as a title:\n",
    "```\n",
    "plt.title(\"Title\")\n",
    "```\n",
    "\n",
    "If you ever want to create or add things but dont know how google it! Using just specify your trying to \n",
    "create the visual with matplotlib or seaborn"
   ]
  },
  {
   "cell_type": "markdown",
   "metadata": {
    "id": "ZAfOuc6aU8Yg"
   },
   "source": [
    "### Q: Choose any two continuous columns create a scatter plot of the two\n",
    "### Q: Are these two variables in a linear or non linear relationship?\n",
    "### Q: Are there any outliers or multiple clusters?\n",
    "\n"
   ]
  },
  {
   "cell_type": "code",
   "execution_count": null,
   "metadata": {
    "id": "21GpeHiqU8Yh"
   },
   "outputs": [],
   "source": []
  },
  {
   "cell_type": "markdown",
   "metadata": {
    "id": "Mm7F80uaU8Yk"
   },
   "source": [
    "# 1D Ploting\n",
    "\n",
    "There are many types of 1D plots:\n",
    "bar plot, histogram, radial bar char, swarm plot, boxplot\n",
    "\n",
    "To create a bar plot based on a nominal or ordinal:\n",
    "```\n",
    "df[\"col\"].value_counts().plot(kind='bar')\n",
    "```\n",
    "\n",
    "To create a histogram:\n",
    "```\n",
    "df[’col’].hist(bins=10)\n",
    "```\n"
   ]
  },
  {
   "cell_type": "markdown",
   "metadata": {
    "id": "clM-EhGcU8Yl"
   },
   "source": [
    "### Q: Choose a nominal or ordinal columnn create a bar plot of it\n",
    "### Q: Choose a continuous column create a histogram of it"
   ]
  },
  {
   "cell_type": "code",
   "execution_count": null,
   "metadata": {
    "id": "DAWBzncLU8Yl"
   },
   "outputs": [],
   "source": []
  },
  {
   "cell_type": "markdown",
   "metadata": {
    "id": "n_UebRR0U8Yn"
   },
   "source": [
    "# Common Initial Plots\n",
    "\n",
    "### Pair Plot\n",
    "\n",
    "A quick way to see all one on one relationships of continuous variables is using a pair plot. You may first need to create a df with only cont. variables in it for the function to work. \n",
    "```\n",
    "chart = sns.pairplot(data=df)\n",
    "```\n",
    "\n",
    "You can layer another dimension of data in a pairplot by specify the hue to be equal to a column with a small number of possible values\n",
    "```\n",
    "chart = sns.pairplot(data=df, hue=\"nominal_col or ordinal_col\")\n",
    "```\n",
    "\n",
    "### Box Plot\n",
    "\n",
    "Box plots show the quartile distibrution of a data set (25th percentile, median, 75 percentile) and any outliers.\n",
    "```\n",
    "plt.figure(figsize=(10,5))\n",
    "chart = sns.boxplot(y=\"cont_col\", data=df)\n",
    "```\n",
    "\n",
    "For this plot we can also display multiple dimensions of data by specifying x to equal a variable with a small number of possible values\n",
    "```\n",
    "plt.figure(figsize=(10,5))\n",
    "chart = sns.boxplot(x=\"nominal_col or ordinal\", y=\"cont_col\", data=df)\n",
    "```\n",
    "\n"
   ]
  },
  {
   "cell_type": "markdown",
   "metadata": {
    "id": "q-bf5HifU8Yo"
   },
   "source": [
    "### Create a pairplot of your data\n",
    "### What relationships can you see? Is there anything that stands out?\n",
    "### Choose a nominal or ordinal col to use. Recreate your pair plot while coloring by that variable\n",
    "### How does it change your understanding?\n",
    "\n",
    "### Repeat above for box plots"
   ]
  },
  {
   "cell_type": "code",
   "execution_count": null,
   "metadata": {
    "id": "43buD1YWU8Yo"
   },
   "outputs": [],
   "source": []
  },
  {
   "cell_type": "markdown",
   "metadata": {
    "id": "iJ8uxb7uU8Yq"
   },
   "source": [
    "# Heat Map and Correlation\n",
    "\n",
    "One useful data viz you can make before modeling is a correlation heat map. This graphic allows you to see the correlation coefficient from each pair of variables.\n",
    "```\n",
    "chart = sns.heatmap(df.corr(), center=0, annot=True, vmin=-1, vmax=1)\n",
    "```"
   ]
  },
  {
   "cell_type": "markdown",
   "metadata": {
    "id": "11IWUIpsU8Yq"
   },
   "source": [
    "### Create a heat map of the correlation of your data\n",
    "### Do the values roughly line up with the linearity seen in the pair plot viz?"
   ]
  },
  {
   "cell_type": "code",
   "execution_count": null,
   "metadata": {
    "id": "yDKNmWBOU8Yr"
   },
   "outputs": [],
   "source": []
  },
  {
   "cell_type": "markdown",
   "metadata": {
    "id": "5iBxYqcCU8Yt"
   },
   "source": [
    "### Next Steps\n",
    "\n",
    "Keep digging into your data set and answering questions through viz. This should lead to more questions.\n",
    "If you ever want to create a graphic but dont know how just google how to do it in python."
   ]
  }
 ],
 "metadata": {
  "colab": {
   "name": "DEEP3-Worksheet.ipynb",
   "provenance": [],
   "toc_visible": true
  },
  "kernelspec": {
   "display_name": "Python 3",
   "language": "python",
   "name": "python3"
  },
  "language_info": {
   "codemirror_mode": {
    "name": "ipython",
    "version": 3
   },
   "file_extension": ".py",
   "mimetype": "text/x-python",
   "name": "python",
   "nbconvert_exporter": "python",
   "pygments_lexer": "ipython3",
   "version": "3.8.8"
  },
  "toc": {
   "base_numbering": 1,
   "nav_menu": {},
   "number_sections": true,
   "sideBar": true,
   "skip_h1_title": false,
   "title_cell": "Table of Contents",
   "title_sidebar": "Contents",
   "toc_cell": false,
   "toc_position": {},
   "toc_section_display": true,
   "toc_window_display": false
  }
 },
 "nbformat": 4,
 "nbformat_minor": 1
}
