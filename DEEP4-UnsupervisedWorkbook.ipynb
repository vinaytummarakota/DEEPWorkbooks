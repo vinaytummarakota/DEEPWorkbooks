{
 "cells": [
  {
   "cell_type": "code",
   "execution_count": 1,
   "metadata": {},
   "outputs": [],
   "source": [
    "import pandas as pd\n",
    "import numpy as np\n",
    "import matplotlib.pyplot as plt\n",
    "\n",
    "from sklearn.cluster import KMeans"
   ]
  },
  {
   "cell_type": "markdown",
   "metadata": {},
   "source": [
    "# Ingest the Dataset"
   ]
  },
  {
   "cell_type": "code",
   "execution_count": 2,
   "metadata": {},
   "outputs": [],
   "source": [
    "data = pd.read_csv('HT_Affordability.csv')"
   ]
  },
  {
   "cell_type": "code",
   "execution_count": 3,
   "metadata": {},
   "outputs": [],
   "source": [
    "reduced_data = data[['tract', 'cbsa', 'h_ami', 't_ami']]\n",
    "reduced_data = reduced_data.loc[(reduced_data['h_ami'] <= 27) | (reduced_data['h_ami'] >= 37), :]\n",
    "reduced_data = reduced_data.loc[(reduced_data['t_ami'] <= 22) | (reduced_data['t_ami'] >= 30), :]"
   ]
  },
  {
   "cell_type": "markdown",
   "metadata": {},
   "source": [
    "# Plot the Dataset\n",
    "Create a scatterplot of the h_ami (Housing Index) and t_ami (Transportation Index) for each census tract in the dataset"
   ]
  },
  {
   "cell_type": "code",
   "execution_count": null,
   "metadata": {},
   "outputs": [],
   "source": []
  },
  {
   "cell_type": "markdown",
   "metadata": {},
   "source": [
    "# Implement K-Means Clustering\n",
    "Using the scikit-learn documentation or online tutorials, determine how to create a KMeans() object and fit the object to the two axes of data (Housing Index & Tranportation Index). Based on the results of the scatterplot, choose the number of clusters that best matches your intuition. "
   ]
  },
  {
   "cell_type": "code",
   "execution_count": null,
   "metadata": {},
   "outputs": [],
   "source": []
  },
  {
   "cell_type": "markdown",
   "metadata": {},
   "source": [
    "# Plot the Clusters\n",
    "Using the \"c\" parameter in plt.scatter(), plot the scatterplot once again where each point is labeled based on the cluster that it belongs to"
   ]
  },
  {
   "cell_type": "code",
   "execution_count": null,
   "metadata": {},
   "outputs": [],
   "source": []
  },
  {
   "cell_type": "markdown",
   "metadata": {},
   "source": [
    "# Metrics for Clustering\n",
    "If you chose 4 clusters for your algorithm, you'll see that K-Means produces a relatively solid clustering. But this raises a more fundamental question: how do you choose the number of clusters for a clustering algorithm in the first place? In our case, it was relatively easy to choose the number of clusterings because the data was 2-D and easy to visualize. However, clustering algorithms aren't always used with such a simple dataset. Therefore, there must be a more systematic way to identify appropriate the number of necessary clusters. One method that calculates the number of necessary clusters is the \"elbow\" method. \n",
    "\n",
    "The elbow method involves testing a set of possible clusterings and then plotting a metric indicating the strength of the clustering for each # of clusters. At some point, the addition of a new cluster will yield little difference in the metric which will be an indication that further clusters are no longer necessary. \n",
    "\n",
    "### Elbow Plot for Inertia Metric\n",
    "The \"inertia\" of a clustering is the sum of the squared distances between every data point and its closest center (the center is typically the average of the data points in the cluster). For this task, test out the k-means algorithm with clusterings between 1 and 11, and plot the inertia at each clustering. What does the elbow plot identify as the optimal number of clusters?\n",
    "\n",
    "*HINT: You don't need to calculate the inertia yourself. Use scikit-learn documentation to find out how to access the inertia directly.*"
   ]
  },
  {
   "cell_type": "code",
   "execution_count": null,
   "metadata": {},
   "outputs": [],
   "source": []
  }
 ],
 "metadata": {
  "kernelspec": {
   "display_name": "Python 3",
   "language": "python",
   "name": "python3"
  },
  "language_info": {
   "codemirror_mode": {
    "name": "ipython",
    "version": 3
   },
   "file_extension": ".py",
   "mimetype": "text/x-python",
   "name": "python",
   "nbconvert_exporter": "python",
   "pygments_lexer": "ipython3",
   "version": "3.8.8"
  }
 },
 "nbformat": 4,
 "nbformat_minor": 4
}
